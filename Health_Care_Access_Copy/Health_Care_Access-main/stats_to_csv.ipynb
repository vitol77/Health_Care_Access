{
 "cells": [
  {
   "cell_type": "code",
   "execution_count": 1,
   "metadata": {
    "collapsed": true,
    "ExecuteTime": {
     "end_time": "2023-08-02T19:52:18.208348300Z",
     "start_time": "2023-08-02T19:52:16.020879400Z"
    }
   },
   "outputs": [],
   "source": [
    "import pandas as pd\n",
    "import numpy as np\n",
    "from scipy import stats\n",
    "import matplotlib.pyplot as plt"
   ]
  },
  {
   "cell_type": "code",
   "execution_count": 2,
   "outputs": [],
   "source": [
    "# Count data\n",
    "health_counts = pd.read_csv('Counts/amenity_counts.csv')\n",
    "nearby_taxi = pd.read_csv('Counts/nearby_taxi_counts.csv')\n",
    "nearby_parking = pd.read_csv('Counts/nearby_parking_counts.csv')\n",
    "nearby_station = pd.read_csv('Counts/nearby_station_counts.csv')"
   ],
   "metadata": {
    "collapsed": false,
    "ExecuteTime": {
     "end_time": "2023-08-02T19:52:19.095281100Z",
     "start_time": "2023-08-02T19:52:19.051298Z"
    }
   }
  },
  {
   "cell_type": "code",
   "execution_count": 3,
   "outputs": [],
   "source": [
    " # Summed count data\n",
    "sum_health_counts = pd.read_csv('Sum/summed_counts.csv')\n",
    "sum_nearby_taxi = pd.read_csv('Sum/summed_taxi.csv')\n",
    "sum_nearby_parking = pd.read_csv('Sum/summed_parking.csv')\n",
    "sum_nearby_station = pd.read_csv('Sum/summed_stations.csv')"
   ],
   "metadata": {
    "collapsed": false,
    "ExecuteTime": {
     "end_time": "2023-08-02T19:52:19.958358Z",
     "start_time": "2023-08-02T19:52:19.921509500Z"
    }
   }
  },
  {
   "cell_type": "code",
   "execution_count": 4,
   "outputs": [
    {
     "data": {
      "text/plain": "   Unnamed: 0.1      Unnamed: 0  Hospitals  Social Facilities  Clinics  \\\n0             0       Vancouver          4                 22       61   \n1             1         Kelowna          1                  1        3   \n2             2      Abbotsford          1                 49       29   \n3             3        Victoria          1                 13        4   \n4             4        Kamloops          3                 11        5   \n5             5         Nanaimo          1                  6        7   \n6             6      Chilliwack          1                  5        3   \n7             7          Vernon          1                 12        3   \n8             8  Campbell River          2                  4        6   \n9             9       Penticton          1                  2        1   \n\n   Pharmacies  Doctors  total  \n0         115       12    214  \n1          14        2     21  \n2          47       64    190  \n3          17        3     38  \n4          13        5     37  \n5          10        1     25  \n6           6        2     17  \n7           4        1     21  \n8           2        1     15  \n9           3        1      8  ",
      "text/html": "<div>\n<style scoped>\n    .dataframe tbody tr th:only-of-type {\n        vertical-align: middle;\n    }\n\n    .dataframe tbody tr th {\n        vertical-align: top;\n    }\n\n    .dataframe thead th {\n        text-align: right;\n    }\n</style>\n<table border=\"1\" class=\"dataframe\">\n  <thead>\n    <tr style=\"text-align: right;\">\n      <th></th>\n      <th>Unnamed: 0.1</th>\n      <th>Unnamed: 0</th>\n      <th>Hospitals</th>\n      <th>Social Facilities</th>\n      <th>Clinics</th>\n      <th>Pharmacies</th>\n      <th>Doctors</th>\n      <th>total</th>\n    </tr>\n  </thead>\n  <tbody>\n    <tr>\n      <th>0</th>\n      <td>0</td>\n      <td>Vancouver</td>\n      <td>4</td>\n      <td>22</td>\n      <td>61</td>\n      <td>115</td>\n      <td>12</td>\n      <td>214</td>\n    </tr>\n    <tr>\n      <th>1</th>\n      <td>1</td>\n      <td>Kelowna</td>\n      <td>1</td>\n      <td>1</td>\n      <td>3</td>\n      <td>14</td>\n      <td>2</td>\n      <td>21</td>\n    </tr>\n    <tr>\n      <th>2</th>\n      <td>2</td>\n      <td>Abbotsford</td>\n      <td>1</td>\n      <td>49</td>\n      <td>29</td>\n      <td>47</td>\n      <td>64</td>\n      <td>190</td>\n    </tr>\n    <tr>\n      <th>3</th>\n      <td>3</td>\n      <td>Victoria</td>\n      <td>1</td>\n      <td>13</td>\n      <td>4</td>\n      <td>17</td>\n      <td>3</td>\n      <td>38</td>\n    </tr>\n    <tr>\n      <th>4</th>\n      <td>4</td>\n      <td>Kamloops</td>\n      <td>3</td>\n      <td>11</td>\n      <td>5</td>\n      <td>13</td>\n      <td>5</td>\n      <td>37</td>\n    </tr>\n    <tr>\n      <th>5</th>\n      <td>5</td>\n      <td>Nanaimo</td>\n      <td>1</td>\n      <td>6</td>\n      <td>7</td>\n      <td>10</td>\n      <td>1</td>\n      <td>25</td>\n    </tr>\n    <tr>\n      <th>6</th>\n      <td>6</td>\n      <td>Chilliwack</td>\n      <td>1</td>\n      <td>5</td>\n      <td>3</td>\n      <td>6</td>\n      <td>2</td>\n      <td>17</td>\n    </tr>\n    <tr>\n      <th>7</th>\n      <td>7</td>\n      <td>Vernon</td>\n      <td>1</td>\n      <td>12</td>\n      <td>3</td>\n      <td>4</td>\n      <td>1</td>\n      <td>21</td>\n    </tr>\n    <tr>\n      <th>8</th>\n      <td>8</td>\n      <td>Campbell River</td>\n      <td>2</td>\n      <td>4</td>\n      <td>6</td>\n      <td>2</td>\n      <td>1</td>\n      <td>15</td>\n    </tr>\n    <tr>\n      <th>9</th>\n      <td>9</td>\n      <td>Penticton</td>\n      <td>1</td>\n      <td>2</td>\n      <td>1</td>\n      <td>3</td>\n      <td>1</td>\n      <td>8</td>\n    </tr>\n  </tbody>\n</table>\n</div>"
     },
     "execution_count": 4,
     "metadata": {},
     "output_type": "execute_result"
    }
   ],
   "source": [
    "sum_health_counts"
   ],
   "metadata": {
    "collapsed": false,
    "ExecuteTime": {
     "end_time": "2023-08-02T19:52:20.559047100Z",
     "start_time": "2023-08-02T19:52:20.520990300Z"
    }
   }
  },
  {
   "cell_type": "code",
   "execution_count": 5,
   "outputs": [],
   "source": [
    "sum_health_counts = sum_health_counts.drop(columns=[\"Unnamed: 0.1\", \"Hospitals\", \"Social Facilities\", \"Clinics\", \"Pharmacies\",\"Doctors\"])\n",
    "sum_nearby_taxi = sum_nearby_taxi.drop(columns=[\"Unnamed: 0.1\",\"Hospitals\", \"Social Facilities\", \"Clinics\", \"Pharmacies\",\"Doctors\"])\n",
    "sum_nearby_parking = sum_nearby_parking.drop(columns=[\"Unnamed: 0.1\",\"Hospitals\", \"Social Facilities\", \"Clinics\", \"Pharmacies\",\"Doctors\"])\n",
    "sum_nearby_station = sum_nearby_station.drop(columns=[\"Unnamed: 0.1\",\"Hospitals\", \"Social Facilities\", \"Clinics\", \"Pharmacies\",\"Doctors\"])"
   ],
   "metadata": {
    "collapsed": false,
    "ExecuteTime": {
     "end_time": "2023-08-02T19:52:22.815465200Z",
     "start_time": "2023-08-02T19:52:22.799099900Z"
    }
   }
  },
  {
   "cell_type": "code",
   "execution_count": 6,
   "outputs": [
    {
     "data": {
      "text/plain": "       Unnamed: 0  total\n0       Vancouver    214\n1         Kelowna     21\n2      Abbotsford    190\n3        Victoria     38\n4        Kamloops     37\n5         Nanaimo     25\n6      Chilliwack     17\n7          Vernon     21\n8  Campbell River     15\n9       Penticton      8",
      "text/html": "<div>\n<style scoped>\n    .dataframe tbody tr th:only-of-type {\n        vertical-align: middle;\n    }\n\n    .dataframe tbody tr th {\n        vertical-align: top;\n    }\n\n    .dataframe thead th {\n        text-align: right;\n    }\n</style>\n<table border=\"1\" class=\"dataframe\">\n  <thead>\n    <tr style=\"text-align: right;\">\n      <th></th>\n      <th>Unnamed: 0</th>\n      <th>total</th>\n    </tr>\n  </thead>\n  <tbody>\n    <tr>\n      <th>0</th>\n      <td>Vancouver</td>\n      <td>214</td>\n    </tr>\n    <tr>\n      <th>1</th>\n      <td>Kelowna</td>\n      <td>21</td>\n    </tr>\n    <tr>\n      <th>2</th>\n      <td>Abbotsford</td>\n      <td>190</td>\n    </tr>\n    <tr>\n      <th>3</th>\n      <td>Victoria</td>\n      <td>38</td>\n    </tr>\n    <tr>\n      <th>4</th>\n      <td>Kamloops</td>\n      <td>37</td>\n    </tr>\n    <tr>\n      <th>5</th>\n      <td>Nanaimo</td>\n      <td>25</td>\n    </tr>\n    <tr>\n      <th>6</th>\n      <td>Chilliwack</td>\n      <td>17</td>\n    </tr>\n    <tr>\n      <th>7</th>\n      <td>Vernon</td>\n      <td>21</td>\n    </tr>\n    <tr>\n      <th>8</th>\n      <td>Campbell River</td>\n      <td>15</td>\n    </tr>\n    <tr>\n      <th>9</th>\n      <td>Penticton</td>\n      <td>8</td>\n    </tr>\n  </tbody>\n</table>\n</div>"
     },
     "execution_count": 6,
     "metadata": {},
     "output_type": "execute_result"
    }
   ],
   "source": [
    "sum_health_counts"
   ],
   "metadata": {
    "collapsed": false,
    "ExecuteTime": {
     "end_time": "2023-08-02T19:52:23.813259200Z",
     "start_time": "2023-08-02T19:52:23.783598600Z"
    }
   }
  },
  {
   "cell_type": "code",
   "execution_count": 7,
   "outputs": [
    {
     "data": {
      "text/plain": "       Unnamed: 0  total\n0       Vancouver     54\n1         Kelowna      0\n2      Abbotsford      0\n3        Victoria      1\n4        Kamloops      0\n5         Nanaimo      0\n6      Chilliwack      0\n7          Vernon      0\n8  Campbell River      0\n9       Penticton      0",
      "text/html": "<div>\n<style scoped>\n    .dataframe tbody tr th:only-of-type {\n        vertical-align: middle;\n    }\n\n    .dataframe tbody tr th {\n        vertical-align: top;\n    }\n\n    .dataframe thead th {\n        text-align: right;\n    }\n</style>\n<table border=\"1\" class=\"dataframe\">\n  <thead>\n    <tr style=\"text-align: right;\">\n      <th></th>\n      <th>Unnamed: 0</th>\n      <th>total</th>\n    </tr>\n  </thead>\n  <tbody>\n    <tr>\n      <th>0</th>\n      <td>Vancouver</td>\n      <td>54</td>\n    </tr>\n    <tr>\n      <th>1</th>\n      <td>Kelowna</td>\n      <td>0</td>\n    </tr>\n    <tr>\n      <th>2</th>\n      <td>Abbotsford</td>\n      <td>0</td>\n    </tr>\n    <tr>\n      <th>3</th>\n      <td>Victoria</td>\n      <td>1</td>\n    </tr>\n    <tr>\n      <th>4</th>\n      <td>Kamloops</td>\n      <td>0</td>\n    </tr>\n    <tr>\n      <th>5</th>\n      <td>Nanaimo</td>\n      <td>0</td>\n    </tr>\n    <tr>\n      <th>6</th>\n      <td>Chilliwack</td>\n      <td>0</td>\n    </tr>\n    <tr>\n      <th>7</th>\n      <td>Vernon</td>\n      <td>0</td>\n    </tr>\n    <tr>\n      <th>8</th>\n      <td>Campbell River</td>\n      <td>0</td>\n    </tr>\n    <tr>\n      <th>9</th>\n      <td>Penticton</td>\n      <td>0</td>\n    </tr>\n  </tbody>\n</table>\n</div>"
     },
     "execution_count": 7,
     "metadata": {},
     "output_type": "execute_result"
    }
   ],
   "source": [
    "sum_nearby_taxi"
   ],
   "metadata": {
    "collapsed": false,
    "ExecuteTime": {
     "end_time": "2023-08-02T19:52:47.329239300Z",
     "start_time": "2023-08-02T19:52:47.272080900Z"
    }
   }
  },
  {
   "cell_type": "code",
   "execution_count": 8,
   "outputs": [],
   "source": [
    "sum_health_counts = sum_health_counts.rename(columns={\"Unnamed: 0\": \"City\"})\n",
    "sum_nearby_taxi = sum_nearby_taxi.rename(columns={\"Unnamed: 0\": \"City\"})\n",
    "sum_nearby_parking = sum_nearby_parking.rename(columns={\"Unnamed: 0\": \"City\"})\n",
    "sum_nearby_station = sum_nearby_station.rename(columns={\"Unnamed: 0\": \"City\"})"
   ],
   "metadata": {
    "collapsed": false,
    "ExecuteTime": {
     "end_time": "2023-08-02T19:52:48.414769Z",
     "start_time": "2023-08-02T19:52:48.393325300Z"
    }
   }
  },
  {
   "cell_type": "code",
   "execution_count": 9,
   "outputs": [
    {
     "data": {
      "text/plain": "             City  total\n0       Vancouver    214\n1         Kelowna     21\n2      Abbotsford    190\n3        Victoria     38\n4        Kamloops     37\n5         Nanaimo     25\n6      Chilliwack     17\n7          Vernon     21\n8  Campbell River     15\n9       Penticton      8",
      "text/html": "<div>\n<style scoped>\n    .dataframe tbody tr th:only-of-type {\n        vertical-align: middle;\n    }\n\n    .dataframe tbody tr th {\n        vertical-align: top;\n    }\n\n    .dataframe thead th {\n        text-align: right;\n    }\n</style>\n<table border=\"1\" class=\"dataframe\">\n  <thead>\n    <tr style=\"text-align: right;\">\n      <th></th>\n      <th>City</th>\n      <th>total</th>\n    </tr>\n  </thead>\n  <tbody>\n    <tr>\n      <th>0</th>\n      <td>Vancouver</td>\n      <td>214</td>\n    </tr>\n    <tr>\n      <th>1</th>\n      <td>Kelowna</td>\n      <td>21</td>\n    </tr>\n    <tr>\n      <th>2</th>\n      <td>Abbotsford</td>\n      <td>190</td>\n    </tr>\n    <tr>\n      <th>3</th>\n      <td>Victoria</td>\n      <td>38</td>\n    </tr>\n    <tr>\n      <th>4</th>\n      <td>Kamloops</td>\n      <td>37</td>\n    </tr>\n    <tr>\n      <th>5</th>\n      <td>Nanaimo</td>\n      <td>25</td>\n    </tr>\n    <tr>\n      <th>6</th>\n      <td>Chilliwack</td>\n      <td>17</td>\n    </tr>\n    <tr>\n      <th>7</th>\n      <td>Vernon</td>\n      <td>21</td>\n    </tr>\n    <tr>\n      <th>8</th>\n      <td>Campbell River</td>\n      <td>15</td>\n    </tr>\n    <tr>\n      <th>9</th>\n      <td>Penticton</td>\n      <td>8</td>\n    </tr>\n  </tbody>\n</table>\n</div>"
     },
     "execution_count": 9,
     "metadata": {},
     "output_type": "execute_result"
    }
   ],
   "source": [
    "sum_health_counts"
   ],
   "metadata": {
    "collapsed": false,
    "ExecuteTime": {
     "end_time": "2023-08-02T19:52:48.983822900Z",
     "start_time": "2023-08-02T19:52:48.962583300Z"
    }
   }
  },
  {
   "cell_type": "code",
   "execution_count": 10,
   "outputs": [
    {
     "data": {
      "text/plain": "             City  total\n0       Vancouver     54\n1         Kelowna      0\n2      Abbotsford      0\n3        Victoria      1\n4        Kamloops      0\n5         Nanaimo      0\n6      Chilliwack      0\n7          Vernon      0\n8  Campbell River      0\n9       Penticton      0",
      "text/html": "<div>\n<style scoped>\n    .dataframe tbody tr th:only-of-type {\n        vertical-align: middle;\n    }\n\n    .dataframe tbody tr th {\n        vertical-align: top;\n    }\n\n    .dataframe thead th {\n        text-align: right;\n    }\n</style>\n<table border=\"1\" class=\"dataframe\">\n  <thead>\n    <tr style=\"text-align: right;\">\n      <th></th>\n      <th>City</th>\n      <th>total</th>\n    </tr>\n  </thead>\n  <tbody>\n    <tr>\n      <th>0</th>\n      <td>Vancouver</td>\n      <td>54</td>\n    </tr>\n    <tr>\n      <th>1</th>\n      <td>Kelowna</td>\n      <td>0</td>\n    </tr>\n    <tr>\n      <th>2</th>\n      <td>Abbotsford</td>\n      <td>0</td>\n    </tr>\n    <tr>\n      <th>3</th>\n      <td>Victoria</td>\n      <td>1</td>\n    </tr>\n    <tr>\n      <th>4</th>\n      <td>Kamloops</td>\n      <td>0</td>\n    </tr>\n    <tr>\n      <th>5</th>\n      <td>Nanaimo</td>\n      <td>0</td>\n    </tr>\n    <tr>\n      <th>6</th>\n      <td>Chilliwack</td>\n      <td>0</td>\n    </tr>\n    <tr>\n      <th>7</th>\n      <td>Vernon</td>\n      <td>0</td>\n    </tr>\n    <tr>\n      <th>8</th>\n      <td>Campbell River</td>\n      <td>0</td>\n    </tr>\n    <tr>\n      <th>9</th>\n      <td>Penticton</td>\n      <td>0</td>\n    </tr>\n  </tbody>\n</table>\n</div>"
     },
     "execution_count": 10,
     "metadata": {},
     "output_type": "execute_result"
    }
   ],
   "source": [
    "sum_nearby_taxi"
   ],
   "metadata": {
    "collapsed": false,
    "ExecuteTime": {
     "end_time": "2023-08-02T19:52:49.800999500Z",
     "start_time": "2023-08-02T19:52:49.772913Z"
    }
   }
  },
  {
   "cell_type": "code",
   "execution_count": 11,
   "outputs": [],
   "source": [
    "# Disease Data\n",
    "data = pd.read_csv('Counts/city_profiles.csv')"
   ],
   "metadata": {
    "collapsed": false,
    "ExecuteTime": {
     "end_time": "2023-08-02T19:52:51.242552800Z",
     "start_time": "2023-08-02T19:52:51.214517800Z"
    }
   }
  },
  {
   "cell_type": "code",
   "execution_count": 12,
   "outputs": [
    {
     "name": "stderr",
     "output_type": "stream",
     "text": [
      "C:\\Users\\samip\\AppData\\Local\\Temp\\ipykernel_7892\\2484963494.py:10: FutureWarning: The frame.append method is deprecated and will be removed from pandas in a future version. Use pandas.concat instead.\n",
      "  grouped_data_100 = grouped_data_100.append(rows, ignore_index=True)\n"
     ]
    }
   ],
   "source": [
    "# Used to learn how to append multiple rows to DF\n",
    "# https: // practicaldatascience.co.uk / data - science / how - to - use - append - to - add - rows - to - a - pandas - dataframe  #:~:text=Use%20append()%20and%20Series,rows%20to%20an%20existing%20dataframe.\n",
    "# Average number of people with disease per 1000\n",
    "grouped_data = data.drop(columns=\"Indicator\")\n",
    "grouped_data_100 = pd.DataFrame()\n",
    "snd = 10\n",
    "fst = 5\n",
    "for i in range(10):\n",
    "    rows = (data.iloc[fst:snd])\n",
    "    grouped_data_100 = grouped_data_100.append(rows, ignore_index=True)\n",
    "    fst = fst + 10\n",
    "    snd = snd + 10\n",
    "\n",
    "# print(grouped_data_100)\n",
    "grouped_data_100 = grouped_data_100.drop(columns=\"Unnamed: 0\")\n"
   ],
   "metadata": {
    "collapsed": false,
    "ExecuteTime": {
     "end_time": "2023-08-02T19:52:51.848094100Z",
     "start_time": "2023-08-02T19:52:51.831524600Z"
    }
   }
  },
  {
   "cell_type": "code",
   "execution_count": 13,
   "outputs": [
    {
     "data": {
      "text/plain": "                                            Indicator  Value            City\n0   Asthma age-standardized incidence rate per 100...    8.2      Abbotsford\n1   Chronic obstructive pulmonary disease (COPD) a...    7.4      Abbotsford\n2   Diabetes age-standardized incidence rate per 1...    8.7      Abbotsford\n3   Heart failure age-standardized incidence rate ...    4.1      Abbotsford\n4   Hypertension age-standardized incidence rate p...   28.2      Abbotsford\n5   Asthma age-standardized incidence rate per 100...    8.1  Campbell River\n6   Chronic obstructive pulmonary disease (COPD) a...   13.6  Campbell River\n7   Diabetes age-standardized incidence rate per 1...    6.8  Campbell River\n8   Heart failure age-standardized incidence rate ...    4.2  Campbell River\n9   Hypertension age-standardized incidence rate p...   18.9  Campbell River\n10  Asthma age-standardized incidence rate per 100...    5.7      Chilliwack\n11  Chronic obstructive pulmonary disease (COPD) a...    8.2      Chilliwack\n12  Diabetes age-standardized incidence rate per 1...    7.6      Chilliwack\n13  Heart failure age-standardized incidence rate ...    4.2      Chilliwack\n14  Hypertension age-standardized incidence rate p...   24.4      Chilliwack\n15  Asthma age-standardized incidence rate per 100...    6.7        Kamloops\n16  Chronic obstructive pulmonary disease (COPD) a...   11.8        Kamloops\n17  Diabetes age-standardized incidence rate per 1...    5.6        Kamloops\n18  Heart failure age-standardized incidence rate ...    3.4        Kamloops\n19  Hypertension age-standardized incidence rate p...   20.0        Kamloops\n20  Asthma age-standardized incidence rate per 100...    6.8         Kelowna\n21  Chronic obstructive pulmonary disease (COPD) a...    9.7         Kelowna\n22  Diabetes age-standardized incidence rate per 1...    4.5         Kelowna\n23  Heart failure age-standardized incidence rate ...    3.0         Kelowna\n24  Hypertension age-standardized incidence rate p...   22.3         Kelowna\n25  Asthma age-standardized incidence rate per 100...    6.0         Nanaimo\n26  Chronic obstructive pulmonary disease (COPD) a...    8.6         Nanaimo\n27  Diabetes age-standardized incidence rate per 1...    5.7         Nanaimo\n28  Heart failure age-standardized incidence rate ...    3.4         Nanaimo\n29  Hypertension age-standardized incidence rate p...   16.7         Nanaimo\n30  Asthma age-standardized incidence rate per 100...    5.8       Penticton\n31  Chronic obstructive pulmonary disease (COPD) a...   10.7       Penticton\n32  Diabetes age-standardized incidence rate per 1...    5.1       Penticton\n33  Heart failure age-standardized incidence rate ...    3.3       Penticton\n34  Hypertension age-standardized incidence rate p...   19.1       Penticton\n35  Asthma age-standardized incidence rate per 100...    5.5       Vancouver\n36  Chronic obstructive pulmonary disease (COPD) a...    5.6       Vancouver\n37  Diabetes age-standardized incidence rate per 1...    5.6       Vancouver\n38  Heart failure age-standardized incidence rate ...    3.0       Vancouver\n39  Hypertension age-standardized incidence rate p...   16.5       Vancouver\n40  Asthma age-standardized incidence rate per 100...    6.9          Vernon\n41  Chronic obstructive pulmonary disease (COPD) a...   12.1          Vernon\n42  Diabetes age-standardized incidence rate per 1...    5.4          Vernon\n43  Heart failure age-standardized incidence rate ...    4.3          Vernon\n44  Hypertension age-standardized incidence rate p...   24.3          Vernon\n45  Asthma age-standardized incidence rate per 100...    6.1        Victoria\n46  Chronic obstructive pulmonary disease (COPD) a...    6.4        Victoria\n47  Diabetes age-standardized incidence rate per 1...    4.9        Victoria\n48  Heart failure age-standardized incidence rate ...    3.0        Victoria\n49  Hypertension age-standardized incidence rate p...   16.7        Victoria",
      "text/html": "<div>\n<style scoped>\n    .dataframe tbody tr th:only-of-type {\n        vertical-align: middle;\n    }\n\n    .dataframe tbody tr th {\n        vertical-align: top;\n    }\n\n    .dataframe thead th {\n        text-align: right;\n    }\n</style>\n<table border=\"1\" class=\"dataframe\">\n  <thead>\n    <tr style=\"text-align: right;\">\n      <th></th>\n      <th>Indicator</th>\n      <th>Value</th>\n      <th>City</th>\n    </tr>\n  </thead>\n  <tbody>\n    <tr>\n      <th>0</th>\n      <td>Asthma age-standardized incidence rate per 100...</td>\n      <td>8.2</td>\n      <td>Abbotsford</td>\n    </tr>\n    <tr>\n      <th>1</th>\n      <td>Chronic obstructive pulmonary disease (COPD) a...</td>\n      <td>7.4</td>\n      <td>Abbotsford</td>\n    </tr>\n    <tr>\n      <th>2</th>\n      <td>Diabetes age-standardized incidence rate per 1...</td>\n      <td>8.7</td>\n      <td>Abbotsford</td>\n    </tr>\n    <tr>\n      <th>3</th>\n      <td>Heart failure age-standardized incidence rate ...</td>\n      <td>4.1</td>\n      <td>Abbotsford</td>\n    </tr>\n    <tr>\n      <th>4</th>\n      <td>Hypertension age-standardized incidence rate p...</td>\n      <td>28.2</td>\n      <td>Abbotsford</td>\n    </tr>\n    <tr>\n      <th>5</th>\n      <td>Asthma age-standardized incidence rate per 100...</td>\n      <td>8.1</td>\n      <td>Campbell River</td>\n    </tr>\n    <tr>\n      <th>6</th>\n      <td>Chronic obstructive pulmonary disease (COPD) a...</td>\n      <td>13.6</td>\n      <td>Campbell River</td>\n    </tr>\n    <tr>\n      <th>7</th>\n      <td>Diabetes age-standardized incidence rate per 1...</td>\n      <td>6.8</td>\n      <td>Campbell River</td>\n    </tr>\n    <tr>\n      <th>8</th>\n      <td>Heart failure age-standardized incidence rate ...</td>\n      <td>4.2</td>\n      <td>Campbell River</td>\n    </tr>\n    <tr>\n      <th>9</th>\n      <td>Hypertension age-standardized incidence rate p...</td>\n      <td>18.9</td>\n      <td>Campbell River</td>\n    </tr>\n    <tr>\n      <th>10</th>\n      <td>Asthma age-standardized incidence rate per 100...</td>\n      <td>5.7</td>\n      <td>Chilliwack</td>\n    </tr>\n    <tr>\n      <th>11</th>\n      <td>Chronic obstructive pulmonary disease (COPD) a...</td>\n      <td>8.2</td>\n      <td>Chilliwack</td>\n    </tr>\n    <tr>\n      <th>12</th>\n      <td>Diabetes age-standardized incidence rate per 1...</td>\n      <td>7.6</td>\n      <td>Chilliwack</td>\n    </tr>\n    <tr>\n      <th>13</th>\n      <td>Heart failure age-standardized incidence rate ...</td>\n      <td>4.2</td>\n      <td>Chilliwack</td>\n    </tr>\n    <tr>\n      <th>14</th>\n      <td>Hypertension age-standardized incidence rate p...</td>\n      <td>24.4</td>\n      <td>Chilliwack</td>\n    </tr>\n    <tr>\n      <th>15</th>\n      <td>Asthma age-standardized incidence rate per 100...</td>\n      <td>6.7</td>\n      <td>Kamloops</td>\n    </tr>\n    <tr>\n      <th>16</th>\n      <td>Chronic obstructive pulmonary disease (COPD) a...</td>\n      <td>11.8</td>\n      <td>Kamloops</td>\n    </tr>\n    <tr>\n      <th>17</th>\n      <td>Diabetes age-standardized incidence rate per 1...</td>\n      <td>5.6</td>\n      <td>Kamloops</td>\n    </tr>\n    <tr>\n      <th>18</th>\n      <td>Heart failure age-standardized incidence rate ...</td>\n      <td>3.4</td>\n      <td>Kamloops</td>\n    </tr>\n    <tr>\n      <th>19</th>\n      <td>Hypertension age-standardized incidence rate p...</td>\n      <td>20.0</td>\n      <td>Kamloops</td>\n    </tr>\n    <tr>\n      <th>20</th>\n      <td>Asthma age-standardized incidence rate per 100...</td>\n      <td>6.8</td>\n      <td>Kelowna</td>\n    </tr>\n    <tr>\n      <th>21</th>\n      <td>Chronic obstructive pulmonary disease (COPD) a...</td>\n      <td>9.7</td>\n      <td>Kelowna</td>\n    </tr>\n    <tr>\n      <th>22</th>\n      <td>Diabetes age-standardized incidence rate per 1...</td>\n      <td>4.5</td>\n      <td>Kelowna</td>\n    </tr>\n    <tr>\n      <th>23</th>\n      <td>Heart failure age-standardized incidence rate ...</td>\n      <td>3.0</td>\n      <td>Kelowna</td>\n    </tr>\n    <tr>\n      <th>24</th>\n      <td>Hypertension age-standardized incidence rate p...</td>\n      <td>22.3</td>\n      <td>Kelowna</td>\n    </tr>\n    <tr>\n      <th>25</th>\n      <td>Asthma age-standardized incidence rate per 100...</td>\n      <td>6.0</td>\n      <td>Nanaimo</td>\n    </tr>\n    <tr>\n      <th>26</th>\n      <td>Chronic obstructive pulmonary disease (COPD) a...</td>\n      <td>8.6</td>\n      <td>Nanaimo</td>\n    </tr>\n    <tr>\n      <th>27</th>\n      <td>Diabetes age-standardized incidence rate per 1...</td>\n      <td>5.7</td>\n      <td>Nanaimo</td>\n    </tr>\n    <tr>\n      <th>28</th>\n      <td>Heart failure age-standardized incidence rate ...</td>\n      <td>3.4</td>\n      <td>Nanaimo</td>\n    </tr>\n    <tr>\n      <th>29</th>\n      <td>Hypertension age-standardized incidence rate p...</td>\n      <td>16.7</td>\n      <td>Nanaimo</td>\n    </tr>\n    <tr>\n      <th>30</th>\n      <td>Asthma age-standardized incidence rate per 100...</td>\n      <td>5.8</td>\n      <td>Penticton</td>\n    </tr>\n    <tr>\n      <th>31</th>\n      <td>Chronic obstructive pulmonary disease (COPD) a...</td>\n      <td>10.7</td>\n      <td>Penticton</td>\n    </tr>\n    <tr>\n      <th>32</th>\n      <td>Diabetes age-standardized incidence rate per 1...</td>\n      <td>5.1</td>\n      <td>Penticton</td>\n    </tr>\n    <tr>\n      <th>33</th>\n      <td>Heart failure age-standardized incidence rate ...</td>\n      <td>3.3</td>\n      <td>Penticton</td>\n    </tr>\n    <tr>\n      <th>34</th>\n      <td>Hypertension age-standardized incidence rate p...</td>\n      <td>19.1</td>\n      <td>Penticton</td>\n    </tr>\n    <tr>\n      <th>35</th>\n      <td>Asthma age-standardized incidence rate per 100...</td>\n      <td>5.5</td>\n      <td>Vancouver</td>\n    </tr>\n    <tr>\n      <th>36</th>\n      <td>Chronic obstructive pulmonary disease (COPD) a...</td>\n      <td>5.6</td>\n      <td>Vancouver</td>\n    </tr>\n    <tr>\n      <th>37</th>\n      <td>Diabetes age-standardized incidence rate per 1...</td>\n      <td>5.6</td>\n      <td>Vancouver</td>\n    </tr>\n    <tr>\n      <th>38</th>\n      <td>Heart failure age-standardized incidence rate ...</td>\n      <td>3.0</td>\n      <td>Vancouver</td>\n    </tr>\n    <tr>\n      <th>39</th>\n      <td>Hypertension age-standardized incidence rate p...</td>\n      <td>16.5</td>\n      <td>Vancouver</td>\n    </tr>\n    <tr>\n      <th>40</th>\n      <td>Asthma age-standardized incidence rate per 100...</td>\n      <td>6.9</td>\n      <td>Vernon</td>\n    </tr>\n    <tr>\n      <th>41</th>\n      <td>Chronic obstructive pulmonary disease (COPD) a...</td>\n      <td>12.1</td>\n      <td>Vernon</td>\n    </tr>\n    <tr>\n      <th>42</th>\n      <td>Diabetes age-standardized incidence rate per 1...</td>\n      <td>5.4</td>\n      <td>Vernon</td>\n    </tr>\n    <tr>\n      <th>43</th>\n      <td>Heart failure age-standardized incidence rate ...</td>\n      <td>4.3</td>\n      <td>Vernon</td>\n    </tr>\n    <tr>\n      <th>44</th>\n      <td>Hypertension age-standardized incidence rate p...</td>\n      <td>24.3</td>\n      <td>Vernon</td>\n    </tr>\n    <tr>\n      <th>45</th>\n      <td>Asthma age-standardized incidence rate per 100...</td>\n      <td>6.1</td>\n      <td>Victoria</td>\n    </tr>\n    <tr>\n      <th>46</th>\n      <td>Chronic obstructive pulmonary disease (COPD) a...</td>\n      <td>6.4</td>\n      <td>Victoria</td>\n    </tr>\n    <tr>\n      <th>47</th>\n      <td>Diabetes age-standardized incidence rate per 1...</td>\n      <td>4.9</td>\n      <td>Victoria</td>\n    </tr>\n    <tr>\n      <th>48</th>\n      <td>Heart failure age-standardized incidence rate ...</td>\n      <td>3.0</td>\n      <td>Victoria</td>\n    </tr>\n    <tr>\n      <th>49</th>\n      <td>Hypertension age-standardized incidence rate p...</td>\n      <td>16.7</td>\n      <td>Victoria</td>\n    </tr>\n  </tbody>\n</table>\n</div>"
     },
     "execution_count": 13,
     "metadata": {},
     "output_type": "execute_result"
    }
   ],
   "source": [
    "grouped_data_100"
   ],
   "metadata": {
    "collapsed": false,
    "ExecuteTime": {
     "end_time": "2023-08-02T19:52:52.414411400Z",
     "start_time": "2023-08-02T19:52:52.359845800Z"
    }
   }
  },
  {
   "cell_type": "code",
   "execution_count": 14,
   "outputs": [],
   "source": [
    "grouped_data_100 = grouped_data_100.groupby([\"City\"]).sum(\"Value\")"
   ],
   "metadata": {
    "collapsed": false,
    "ExecuteTime": {
     "end_time": "2023-08-02T19:52:52.828914500Z",
     "start_time": "2023-08-02T19:52:52.796351100Z"
    }
   }
  },
  {
   "cell_type": "code",
   "execution_count": 15,
   "outputs": [
    {
     "data": {
      "text/plain": "                Value\nCity                 \nAbbotsford       56.6\nCampbell River   51.6\nChilliwack       50.1\nKamloops         47.5\nKelowna          46.3\nNanaimo          40.4\nPenticton        44.0\nVancouver        36.2\nVernon           53.0\nVictoria         37.1",
      "text/html": "<div>\n<style scoped>\n    .dataframe tbody tr th:only-of-type {\n        vertical-align: middle;\n    }\n\n    .dataframe tbody tr th {\n        vertical-align: top;\n    }\n\n    .dataframe thead th {\n        text-align: right;\n    }\n</style>\n<table border=\"1\" class=\"dataframe\">\n  <thead>\n    <tr style=\"text-align: right;\">\n      <th></th>\n      <th>Value</th>\n    </tr>\n    <tr>\n      <th>City</th>\n      <th></th>\n    </tr>\n  </thead>\n  <tbody>\n    <tr>\n      <th>Abbotsford</th>\n      <td>56.6</td>\n    </tr>\n    <tr>\n      <th>Campbell River</th>\n      <td>51.6</td>\n    </tr>\n    <tr>\n      <th>Chilliwack</th>\n      <td>50.1</td>\n    </tr>\n    <tr>\n      <th>Kamloops</th>\n      <td>47.5</td>\n    </tr>\n    <tr>\n      <th>Kelowna</th>\n      <td>46.3</td>\n    </tr>\n    <tr>\n      <th>Nanaimo</th>\n      <td>40.4</td>\n    </tr>\n    <tr>\n      <th>Penticton</th>\n      <td>44.0</td>\n    </tr>\n    <tr>\n      <th>Vancouver</th>\n      <td>36.2</td>\n    </tr>\n    <tr>\n      <th>Vernon</th>\n      <td>53.0</td>\n    </tr>\n    <tr>\n      <th>Victoria</th>\n      <td>37.1</td>\n    </tr>\n  </tbody>\n</table>\n</div>"
     },
     "execution_count": 15,
     "metadata": {},
     "output_type": "execute_result"
    }
   ],
   "source": [
    "grouped_data_100"
   ],
   "metadata": {
    "collapsed": false,
    "ExecuteTime": {
     "end_time": "2023-08-02T19:52:53.352904600Z",
     "start_time": "2023-08-02T19:52:53.314678700Z"
    }
   }
  },
  {
   "cell_type": "code",
   "execution_count": 16,
   "outputs": [],
   "source": [
    "grouped_data_100['Value'] = grouped_data_100['Value'] / 5"
   ],
   "metadata": {
    "collapsed": false,
    "ExecuteTime": {
     "end_time": "2023-08-02T19:52:53.834197900Z",
     "start_time": "2023-08-02T19:52:53.806190500Z"
    }
   }
  },
  {
   "cell_type": "code",
   "execution_count": 17,
   "outputs": [
    {
     "data": {
      "text/plain": "                Value\nCity                 \nAbbotsford      11.32\nCampbell River  10.32\nChilliwack      10.02\nKamloops         9.50\nKelowna          9.26\nNanaimo          8.08\nPenticton        8.80\nVancouver        7.24\nVernon          10.60\nVictoria         7.42",
      "text/html": "<div>\n<style scoped>\n    .dataframe tbody tr th:only-of-type {\n        vertical-align: middle;\n    }\n\n    .dataframe tbody tr th {\n        vertical-align: top;\n    }\n\n    .dataframe thead th {\n        text-align: right;\n    }\n</style>\n<table border=\"1\" class=\"dataframe\">\n  <thead>\n    <tr style=\"text-align: right;\">\n      <th></th>\n      <th>Value</th>\n    </tr>\n    <tr>\n      <th>City</th>\n      <th></th>\n    </tr>\n  </thead>\n  <tbody>\n    <tr>\n      <th>Abbotsford</th>\n      <td>11.32</td>\n    </tr>\n    <tr>\n      <th>Campbell River</th>\n      <td>10.32</td>\n    </tr>\n    <tr>\n      <th>Chilliwack</th>\n      <td>10.02</td>\n    </tr>\n    <tr>\n      <th>Kamloops</th>\n      <td>9.50</td>\n    </tr>\n    <tr>\n      <th>Kelowna</th>\n      <td>9.26</td>\n    </tr>\n    <tr>\n      <th>Nanaimo</th>\n      <td>8.08</td>\n    </tr>\n    <tr>\n      <th>Penticton</th>\n      <td>8.80</td>\n    </tr>\n    <tr>\n      <th>Vancouver</th>\n      <td>7.24</td>\n    </tr>\n    <tr>\n      <th>Vernon</th>\n      <td>10.60</td>\n    </tr>\n    <tr>\n      <th>Victoria</th>\n      <td>7.42</td>\n    </tr>\n  </tbody>\n</table>\n</div>"
     },
     "execution_count": 17,
     "metadata": {},
     "output_type": "execute_result"
    }
   ],
   "source": [
    "grouped_data_100"
   ],
   "metadata": {
    "collapsed": false,
    "ExecuteTime": {
     "end_time": "2023-08-02T19:52:54.229612900Z",
     "start_time": "2023-08-02T19:52:54.198511700Z"
    }
   }
  },
  {
   "cell_type": "code",
   "execution_count": 18,
   "outputs": [],
   "source": [
    " grouped_data_100 = grouped_data_100.join(sum_health_counts.set_index('City'), on=\"City\")"
   ],
   "metadata": {
    "collapsed": false,
    "ExecuteTime": {
     "end_time": "2023-08-02T19:52:54.629578700Z",
     "start_time": "2023-08-02T19:52:54.607010700Z"
    }
   }
  },
  {
   "cell_type": "code",
   "execution_count": 19,
   "outputs": [
    {
     "data": {
      "text/plain": "                Value  total\nCity                        \nAbbotsford      11.32    190\nCampbell River  10.32     15\nChilliwack      10.02     17\nKamloops         9.50     37\nKelowna          9.26     21\nNanaimo          8.08     25\nPenticton        8.80      8\nVancouver        7.24    214\nVernon          10.60     21\nVictoria         7.42     38",
      "text/html": "<div>\n<style scoped>\n    .dataframe tbody tr th:only-of-type {\n        vertical-align: middle;\n    }\n\n    .dataframe tbody tr th {\n        vertical-align: top;\n    }\n\n    .dataframe thead th {\n        text-align: right;\n    }\n</style>\n<table border=\"1\" class=\"dataframe\">\n  <thead>\n    <tr style=\"text-align: right;\">\n      <th></th>\n      <th>Value</th>\n      <th>total</th>\n    </tr>\n    <tr>\n      <th>City</th>\n      <th></th>\n      <th></th>\n    </tr>\n  </thead>\n  <tbody>\n    <tr>\n      <th>Abbotsford</th>\n      <td>11.32</td>\n      <td>190</td>\n    </tr>\n    <tr>\n      <th>Campbell River</th>\n      <td>10.32</td>\n      <td>15</td>\n    </tr>\n    <tr>\n      <th>Chilliwack</th>\n      <td>10.02</td>\n      <td>17</td>\n    </tr>\n    <tr>\n      <th>Kamloops</th>\n      <td>9.50</td>\n      <td>37</td>\n    </tr>\n    <tr>\n      <th>Kelowna</th>\n      <td>9.26</td>\n      <td>21</td>\n    </tr>\n    <tr>\n      <th>Nanaimo</th>\n      <td>8.08</td>\n      <td>25</td>\n    </tr>\n    <tr>\n      <th>Penticton</th>\n      <td>8.80</td>\n      <td>8</td>\n    </tr>\n    <tr>\n      <th>Vancouver</th>\n      <td>7.24</td>\n      <td>214</td>\n    </tr>\n    <tr>\n      <th>Vernon</th>\n      <td>10.60</td>\n      <td>21</td>\n    </tr>\n    <tr>\n      <th>Victoria</th>\n      <td>7.42</td>\n      <td>38</td>\n    </tr>\n  </tbody>\n</table>\n</div>"
     },
     "execution_count": 19,
     "metadata": {},
     "output_type": "execute_result"
    }
   ],
   "source": [
    "grouped_data_100"
   ],
   "metadata": {
    "collapsed": false,
    "ExecuteTime": {
     "end_time": "2023-08-02T19:52:55.072658800Z",
     "start_time": "2023-08-02T19:52:55.032866900Z"
    }
   }
  },
  {
   "cell_type": "code",
   "execution_count": 20,
   "outputs": [
    {
     "name": "stderr",
     "output_type": "stream",
     "text": [
      "C:\\Users\\samip\\AppData\\Local\\Temp\\ipykernel_7892\\202711418.py:6: FutureWarning: The frame.append method is deprecated and will be removed from pandas in a future version. Use pandas.concat instead.\n",
      "  grouped_data_1000 = grouped_data_1000.append(rows, ignore_index=True)\n"
     ]
    }
   ],
   "source": [
    "grouped_data_1000 = pd.DataFrame()\n",
    "snd = 5\n",
    "fst = 0\n",
    "for i in range(10):\n",
    "    rows = (data.iloc[fst:snd])\n",
    "    grouped_data_1000 = grouped_data_1000.append(rows, ignore_index=True)\n",
    "    fst = fst + 10\n",
    "    snd = snd + 10"
   ],
   "metadata": {
    "collapsed": false,
    "ExecuteTime": {
     "end_time": "2023-08-02T19:52:55.394754300Z",
     "start_time": "2023-08-02T19:52:55.317998Z"
    }
   }
  },
  {
   "cell_type": "code",
   "execution_count": 21,
   "outputs": [
    {
     "data": {
      "text/plain": "    Unnamed: 0                                          Indicator  Value  \\\n0            0  Asthma age-standardized prevalence rate per 10...   16.9   \n1            1  Chronic obstructive pulmonary disease (COPD) a...    6.1   \n2            2  Diabetes age-standardized prevalence rate per ...   10.7   \n3            3  Heart failure age-standardized prevalence rate...    2.5   \n4            4  Hypertension age-standardized prevalence rate ...   27.3   \n5           10  Asthma age-standardized prevalence rate per 10...   14.2   \n6           11  Chronic obstructive pulmonary disease (COPD) a...    8.2   \n7           12  Diabetes age-standardized prevalence rate per ...    8.2   \n8           13  Heart failure age-standardized prevalence rate...    2.4   \n9           14  Hypertension age-standardized prevalence rate ...   22.6   \n10          20  Asthma age-standardized prevalence rate per 10...   12.9   \n11          21  Chronic obstructive pulmonary disease (COPD) a...    7.4   \n12          22  Diabetes age-standardized prevalence rate per ...    9.1   \n13          23  Heart failure age-standardized prevalence rate...    2.5   \n14          24  Hypertension age-standardized prevalence rate ...   24.2   \n15          30  Asthma age-standardized prevalence rate per 10...   14.1   \n16          31  Chronic obstructive pulmonary disease (COPD) a...    9.3   \n17          32  Diabetes age-standardized prevalence rate per ...    7.6   \n18          33  Heart failure age-standardized prevalence rate...    2.3   \n19          34  Hypertension age-standardized prevalence rate ...   23.1   \n20          40  Asthma age-standardized prevalence rate per 10...   12.4   \n21          41  Chronic obstructive pulmonary disease (COPD) a...    7.6   \n22          42  Diabetes age-standardized prevalence rate per ...    5.8   \n23          43  Heart failure age-standardized prevalence rate...    1.8   \n24          44  Hypertension age-standardized prevalence rate ...   21.3   \n25          50  Asthma age-standardized prevalence rate per 10...   13.4   \n26          51  Chronic obstructive pulmonary disease (COPD) a...    6.6   \n27          52  Diabetes age-standardized prevalence rate per ...    7.4   \n28          53  Heart failure age-standardized prevalence rate...    1.9   \n29          54  Hypertension age-standardized prevalence rate ...   20.9   \n30          60  Asthma age-standardized prevalence rate per 10...   12.8   \n31          61  Chronic obstructive pulmonary disease (COPD) a...    7.9   \n32          62  Diabetes age-standardized prevalence rate per ...    6.8   \n33          63  Heart failure age-standardized prevalence rate...    2.0   \n34          64  Hypertension age-standardized prevalence rate ...   22.4   \n35          70  Asthma age-standardized prevalence rate per 10...   10.9   \n36          71  Chronic obstructive pulmonary disease (COPD) a...    5.1   \n37          72  Diabetes age-standardized prevalence rate per ...    8.0   \n38          73  Heart failure age-standardized prevalence rate...    1.8   \n39          74  Hypertension age-standardized prevalence rate ...   21.4   \n40          80  Asthma age-standardized prevalence rate per 10...   13.1   \n41          81  Chronic obstructive pulmonary disease (COPD) a...    9.2   \n42          82  Diabetes age-standardized prevalence rate per ...    6.8   \n43          83  Heart failure age-standardized prevalence rate...    2.6   \n44          84  Hypertension age-standardized prevalence rate ...   22.2   \n45          90  Asthma age-standardized prevalence rate per 10...   12.1   \n46          91  Chronic obstructive pulmonary disease (COPD) a...    5.1   \n47          92  Diabetes age-standardized prevalence rate per ...    6.8   \n48          93  Heart failure age-standardized prevalence rate...    1.6   \n49          94  Hypertension age-standardized prevalence rate ...   20.7   \n\n              City  \n0       Abbotsford  \n1       Abbotsford  \n2       Abbotsford  \n3       Abbotsford  \n4       Abbotsford  \n5   Campbell River  \n6   Campbell River  \n7   Campbell River  \n8   Campbell River  \n9   Campbell River  \n10      Chilliwack  \n11      Chilliwack  \n12      Chilliwack  \n13      Chilliwack  \n14      Chilliwack  \n15        Kamloops  \n16        Kamloops  \n17        Kamloops  \n18        Kamloops  \n19        Kamloops  \n20         Kelowna  \n21         Kelowna  \n22         Kelowna  \n23         Kelowna  \n24         Kelowna  \n25         Nanaimo  \n26         Nanaimo  \n27         Nanaimo  \n28         Nanaimo  \n29         Nanaimo  \n30       Penticton  \n31       Penticton  \n32       Penticton  \n33       Penticton  \n34       Penticton  \n35       Vancouver  \n36       Vancouver  \n37       Vancouver  \n38       Vancouver  \n39       Vancouver  \n40          Vernon  \n41          Vernon  \n42          Vernon  \n43          Vernon  \n44          Vernon  \n45        Victoria  \n46        Victoria  \n47        Victoria  \n48        Victoria  \n49        Victoria  ",
      "text/html": "<div>\n<style scoped>\n    .dataframe tbody tr th:only-of-type {\n        vertical-align: middle;\n    }\n\n    .dataframe tbody tr th {\n        vertical-align: top;\n    }\n\n    .dataframe thead th {\n        text-align: right;\n    }\n</style>\n<table border=\"1\" class=\"dataframe\">\n  <thead>\n    <tr style=\"text-align: right;\">\n      <th></th>\n      <th>Unnamed: 0</th>\n      <th>Indicator</th>\n      <th>Value</th>\n      <th>City</th>\n    </tr>\n  </thead>\n  <tbody>\n    <tr>\n      <th>0</th>\n      <td>0</td>\n      <td>Asthma age-standardized prevalence rate per 10...</td>\n      <td>16.9</td>\n      <td>Abbotsford</td>\n    </tr>\n    <tr>\n      <th>1</th>\n      <td>1</td>\n      <td>Chronic obstructive pulmonary disease (COPD) a...</td>\n      <td>6.1</td>\n      <td>Abbotsford</td>\n    </tr>\n    <tr>\n      <th>2</th>\n      <td>2</td>\n      <td>Diabetes age-standardized prevalence rate per ...</td>\n      <td>10.7</td>\n      <td>Abbotsford</td>\n    </tr>\n    <tr>\n      <th>3</th>\n      <td>3</td>\n      <td>Heart failure age-standardized prevalence rate...</td>\n      <td>2.5</td>\n      <td>Abbotsford</td>\n    </tr>\n    <tr>\n      <th>4</th>\n      <td>4</td>\n      <td>Hypertension age-standardized prevalence rate ...</td>\n      <td>27.3</td>\n      <td>Abbotsford</td>\n    </tr>\n    <tr>\n      <th>5</th>\n      <td>10</td>\n      <td>Asthma age-standardized prevalence rate per 10...</td>\n      <td>14.2</td>\n      <td>Campbell River</td>\n    </tr>\n    <tr>\n      <th>6</th>\n      <td>11</td>\n      <td>Chronic obstructive pulmonary disease (COPD) a...</td>\n      <td>8.2</td>\n      <td>Campbell River</td>\n    </tr>\n    <tr>\n      <th>7</th>\n      <td>12</td>\n      <td>Diabetes age-standardized prevalence rate per ...</td>\n      <td>8.2</td>\n      <td>Campbell River</td>\n    </tr>\n    <tr>\n      <th>8</th>\n      <td>13</td>\n      <td>Heart failure age-standardized prevalence rate...</td>\n      <td>2.4</td>\n      <td>Campbell River</td>\n    </tr>\n    <tr>\n      <th>9</th>\n      <td>14</td>\n      <td>Hypertension age-standardized prevalence rate ...</td>\n      <td>22.6</td>\n      <td>Campbell River</td>\n    </tr>\n    <tr>\n      <th>10</th>\n      <td>20</td>\n      <td>Asthma age-standardized prevalence rate per 10...</td>\n      <td>12.9</td>\n      <td>Chilliwack</td>\n    </tr>\n    <tr>\n      <th>11</th>\n      <td>21</td>\n      <td>Chronic obstructive pulmonary disease (COPD) a...</td>\n      <td>7.4</td>\n      <td>Chilliwack</td>\n    </tr>\n    <tr>\n      <th>12</th>\n      <td>22</td>\n      <td>Diabetes age-standardized prevalence rate per ...</td>\n      <td>9.1</td>\n      <td>Chilliwack</td>\n    </tr>\n    <tr>\n      <th>13</th>\n      <td>23</td>\n      <td>Heart failure age-standardized prevalence rate...</td>\n      <td>2.5</td>\n      <td>Chilliwack</td>\n    </tr>\n    <tr>\n      <th>14</th>\n      <td>24</td>\n      <td>Hypertension age-standardized prevalence rate ...</td>\n      <td>24.2</td>\n      <td>Chilliwack</td>\n    </tr>\n    <tr>\n      <th>15</th>\n      <td>30</td>\n      <td>Asthma age-standardized prevalence rate per 10...</td>\n      <td>14.1</td>\n      <td>Kamloops</td>\n    </tr>\n    <tr>\n      <th>16</th>\n      <td>31</td>\n      <td>Chronic obstructive pulmonary disease (COPD) a...</td>\n      <td>9.3</td>\n      <td>Kamloops</td>\n    </tr>\n    <tr>\n      <th>17</th>\n      <td>32</td>\n      <td>Diabetes age-standardized prevalence rate per ...</td>\n      <td>7.6</td>\n      <td>Kamloops</td>\n    </tr>\n    <tr>\n      <th>18</th>\n      <td>33</td>\n      <td>Heart failure age-standardized prevalence rate...</td>\n      <td>2.3</td>\n      <td>Kamloops</td>\n    </tr>\n    <tr>\n      <th>19</th>\n      <td>34</td>\n      <td>Hypertension age-standardized prevalence rate ...</td>\n      <td>23.1</td>\n      <td>Kamloops</td>\n    </tr>\n    <tr>\n      <th>20</th>\n      <td>40</td>\n      <td>Asthma age-standardized prevalence rate per 10...</td>\n      <td>12.4</td>\n      <td>Kelowna</td>\n    </tr>\n    <tr>\n      <th>21</th>\n      <td>41</td>\n      <td>Chronic obstructive pulmonary disease (COPD) a...</td>\n      <td>7.6</td>\n      <td>Kelowna</td>\n    </tr>\n    <tr>\n      <th>22</th>\n      <td>42</td>\n      <td>Diabetes age-standardized prevalence rate per ...</td>\n      <td>5.8</td>\n      <td>Kelowna</td>\n    </tr>\n    <tr>\n      <th>23</th>\n      <td>43</td>\n      <td>Heart failure age-standardized prevalence rate...</td>\n      <td>1.8</td>\n      <td>Kelowna</td>\n    </tr>\n    <tr>\n      <th>24</th>\n      <td>44</td>\n      <td>Hypertension age-standardized prevalence rate ...</td>\n      <td>21.3</td>\n      <td>Kelowna</td>\n    </tr>\n    <tr>\n      <th>25</th>\n      <td>50</td>\n      <td>Asthma age-standardized prevalence rate per 10...</td>\n      <td>13.4</td>\n      <td>Nanaimo</td>\n    </tr>\n    <tr>\n      <th>26</th>\n      <td>51</td>\n      <td>Chronic obstructive pulmonary disease (COPD) a...</td>\n      <td>6.6</td>\n      <td>Nanaimo</td>\n    </tr>\n    <tr>\n      <th>27</th>\n      <td>52</td>\n      <td>Diabetes age-standardized prevalence rate per ...</td>\n      <td>7.4</td>\n      <td>Nanaimo</td>\n    </tr>\n    <tr>\n      <th>28</th>\n      <td>53</td>\n      <td>Heart failure age-standardized prevalence rate...</td>\n      <td>1.9</td>\n      <td>Nanaimo</td>\n    </tr>\n    <tr>\n      <th>29</th>\n      <td>54</td>\n      <td>Hypertension age-standardized prevalence rate ...</td>\n      <td>20.9</td>\n      <td>Nanaimo</td>\n    </tr>\n    <tr>\n      <th>30</th>\n      <td>60</td>\n      <td>Asthma age-standardized prevalence rate per 10...</td>\n      <td>12.8</td>\n      <td>Penticton</td>\n    </tr>\n    <tr>\n      <th>31</th>\n      <td>61</td>\n      <td>Chronic obstructive pulmonary disease (COPD) a...</td>\n      <td>7.9</td>\n      <td>Penticton</td>\n    </tr>\n    <tr>\n      <th>32</th>\n      <td>62</td>\n      <td>Diabetes age-standardized prevalence rate per ...</td>\n      <td>6.8</td>\n      <td>Penticton</td>\n    </tr>\n    <tr>\n      <th>33</th>\n      <td>63</td>\n      <td>Heart failure age-standardized prevalence rate...</td>\n      <td>2.0</td>\n      <td>Penticton</td>\n    </tr>\n    <tr>\n      <th>34</th>\n      <td>64</td>\n      <td>Hypertension age-standardized prevalence rate ...</td>\n      <td>22.4</td>\n      <td>Penticton</td>\n    </tr>\n    <tr>\n      <th>35</th>\n      <td>70</td>\n      <td>Asthma age-standardized prevalence rate per 10...</td>\n      <td>10.9</td>\n      <td>Vancouver</td>\n    </tr>\n    <tr>\n      <th>36</th>\n      <td>71</td>\n      <td>Chronic obstructive pulmonary disease (COPD) a...</td>\n      <td>5.1</td>\n      <td>Vancouver</td>\n    </tr>\n    <tr>\n      <th>37</th>\n      <td>72</td>\n      <td>Diabetes age-standardized prevalence rate per ...</td>\n      <td>8.0</td>\n      <td>Vancouver</td>\n    </tr>\n    <tr>\n      <th>38</th>\n      <td>73</td>\n      <td>Heart failure age-standardized prevalence rate...</td>\n      <td>1.8</td>\n      <td>Vancouver</td>\n    </tr>\n    <tr>\n      <th>39</th>\n      <td>74</td>\n      <td>Hypertension age-standardized prevalence rate ...</td>\n      <td>21.4</td>\n      <td>Vancouver</td>\n    </tr>\n    <tr>\n      <th>40</th>\n      <td>80</td>\n      <td>Asthma age-standardized prevalence rate per 10...</td>\n      <td>13.1</td>\n      <td>Vernon</td>\n    </tr>\n    <tr>\n      <th>41</th>\n      <td>81</td>\n      <td>Chronic obstructive pulmonary disease (COPD) a...</td>\n      <td>9.2</td>\n      <td>Vernon</td>\n    </tr>\n    <tr>\n      <th>42</th>\n      <td>82</td>\n      <td>Diabetes age-standardized prevalence rate per ...</td>\n      <td>6.8</td>\n      <td>Vernon</td>\n    </tr>\n    <tr>\n      <th>43</th>\n      <td>83</td>\n      <td>Heart failure age-standardized prevalence rate...</td>\n      <td>2.6</td>\n      <td>Vernon</td>\n    </tr>\n    <tr>\n      <th>44</th>\n      <td>84</td>\n      <td>Hypertension age-standardized prevalence rate ...</td>\n      <td>22.2</td>\n      <td>Vernon</td>\n    </tr>\n    <tr>\n      <th>45</th>\n      <td>90</td>\n      <td>Asthma age-standardized prevalence rate per 10...</td>\n      <td>12.1</td>\n      <td>Victoria</td>\n    </tr>\n    <tr>\n      <th>46</th>\n      <td>91</td>\n      <td>Chronic obstructive pulmonary disease (COPD) a...</td>\n      <td>5.1</td>\n      <td>Victoria</td>\n    </tr>\n    <tr>\n      <th>47</th>\n      <td>92</td>\n      <td>Diabetes age-standardized prevalence rate per ...</td>\n      <td>6.8</td>\n      <td>Victoria</td>\n    </tr>\n    <tr>\n      <th>48</th>\n      <td>93</td>\n      <td>Heart failure age-standardized prevalence rate...</td>\n      <td>1.6</td>\n      <td>Victoria</td>\n    </tr>\n    <tr>\n      <th>49</th>\n      <td>94</td>\n      <td>Hypertension age-standardized prevalence rate ...</td>\n      <td>20.7</td>\n      <td>Victoria</td>\n    </tr>\n  </tbody>\n</table>\n</div>"
     },
     "execution_count": 21,
     "metadata": {},
     "output_type": "execute_result"
    }
   ],
   "source": [
    "grouped_data_1000"
   ],
   "metadata": {
    "collapsed": false,
    "ExecuteTime": {
     "end_time": "2023-08-02T19:52:55.639599100Z",
     "start_time": "2023-08-02T19:52:55.579098200Z"
    }
   }
  },
  {
   "cell_type": "code",
   "execution_count": 22,
   "outputs": [],
   "source": [
    "grouped_data_1000 = grouped_data_1000.groupby([\"City\"]).sum(\"Value\")\n",
    "grouped_data_1000['Value'] = grouped_data_1000['Value'] / 5\n",
    "grouped_data_1000 = grouped_data_1000.drop(columns=\"Unnamed: 0\")"
   ],
   "metadata": {
    "collapsed": false,
    "ExecuteTime": {
     "end_time": "2023-08-02T19:52:55.886095200Z",
     "start_time": "2023-08-02T19:52:55.784857Z"
    }
   }
  },
  {
   "cell_type": "code",
   "execution_count": 23,
   "outputs": [],
   "source": [
    "grouped_data_1000 = grouped_data_1000.join(sum_health_counts.set_index('City'), on=\"City\")"
   ],
   "metadata": {
    "collapsed": false,
    "ExecuteTime": {
     "end_time": "2023-08-02T19:52:56.073226800Z",
     "start_time": "2023-08-02T19:52:56.017388Z"
    }
   }
  },
  {
   "cell_type": "code",
   "execution_count": 24,
   "outputs": [
    {
     "data": {
      "text/plain": "                Value  total\nCity                        \nAbbotsford      12.70    190\nCampbell River  11.12     15\nChilliwack      11.22     17\nKamloops        11.28     37\nKelowna          9.78     21\nNanaimo         10.04     25\nPenticton       10.38      8\nVancouver        9.44    214\nVernon          10.78     21\nVictoria         9.26     38",
      "text/html": "<div>\n<style scoped>\n    .dataframe tbody tr th:only-of-type {\n        vertical-align: middle;\n    }\n\n    .dataframe tbody tr th {\n        vertical-align: top;\n    }\n\n    .dataframe thead th {\n        text-align: right;\n    }\n</style>\n<table border=\"1\" class=\"dataframe\">\n  <thead>\n    <tr style=\"text-align: right;\">\n      <th></th>\n      <th>Value</th>\n      <th>total</th>\n    </tr>\n    <tr>\n      <th>City</th>\n      <th></th>\n      <th></th>\n    </tr>\n  </thead>\n  <tbody>\n    <tr>\n      <th>Abbotsford</th>\n      <td>12.70</td>\n      <td>190</td>\n    </tr>\n    <tr>\n      <th>Campbell River</th>\n      <td>11.12</td>\n      <td>15</td>\n    </tr>\n    <tr>\n      <th>Chilliwack</th>\n      <td>11.22</td>\n      <td>17</td>\n    </tr>\n    <tr>\n      <th>Kamloops</th>\n      <td>11.28</td>\n      <td>37</td>\n    </tr>\n    <tr>\n      <th>Kelowna</th>\n      <td>9.78</td>\n      <td>21</td>\n    </tr>\n    <tr>\n      <th>Nanaimo</th>\n      <td>10.04</td>\n      <td>25</td>\n    </tr>\n    <tr>\n      <th>Penticton</th>\n      <td>10.38</td>\n      <td>8</td>\n    </tr>\n    <tr>\n      <th>Vancouver</th>\n      <td>9.44</td>\n      <td>214</td>\n    </tr>\n    <tr>\n      <th>Vernon</th>\n      <td>10.78</td>\n      <td>21</td>\n    </tr>\n    <tr>\n      <th>Victoria</th>\n      <td>9.26</td>\n      <td>38</td>\n    </tr>\n  </tbody>\n</table>\n</div>"
     },
     "execution_count": 24,
     "metadata": {},
     "output_type": "execute_result"
    }
   ],
   "source": [
    "grouped_data_1000"
   ],
   "metadata": {
    "collapsed": false,
    "ExecuteTime": {
     "end_time": "2023-08-02T19:52:56.327566Z",
     "start_time": "2023-08-02T19:52:56.220472200Z"
    }
   }
  },
  {
   "cell_type": "code",
   "execution_count": 25,
   "outputs": [],
   "source": [
    "# DataFrames split up by city\n",
    "van = data[data[\"City\"] == \"Vancouver\"]\n",
    "ver = data[data[\"City\"] == \"Vernon\"]\n",
    "vic = data[data[\"City\"] == \"Victoria\"]\n",
    "abb = data[data[\"City\"] == \"Abbotsford\"]\n",
    "camp = data[data[\"City\"] == \"Campbell River\"]\n",
    "chill = data[data[\"City\"] == \"Chilliwack\"]\n",
    "kam = data[data[\"City\"] == \"Kamloops\"]\n",
    "kel = data[data[\"City\"] == \"Kelowna\"]\n",
    "nana = data[data[\"City\"] == \"Nanaimo\"]\n",
    "pen = data[data[\"City\"] == \"Penticton\"]"
   ],
   "metadata": {
    "collapsed": false,
    "ExecuteTime": {
     "end_time": "2023-08-02T19:52:56.575109800Z",
     "start_time": "2023-08-02T19:52:56.470371600Z"
    }
   }
  },
  {
   "cell_type": "code",
   "execution_count": 26,
   "outputs": [
    {
     "data": {
      "text/plain": "    Unnamed: 0                                          Indicator  Value  \\\n70          70  Asthma age-standardized prevalence rate per 10...   10.9   \n71          71  Chronic obstructive pulmonary disease (COPD) a...    5.1   \n72          72  Diabetes age-standardized prevalence rate per ...    8.0   \n73          73  Heart failure age-standardized prevalence rate...    1.8   \n74          74  Hypertension age-standardized prevalence rate ...   21.4   \n75          75  Asthma age-standardized incidence rate per 100...    5.5   \n76          76  Chronic obstructive pulmonary disease (COPD) a...    5.6   \n77          77  Diabetes age-standardized incidence rate per 1...    5.6   \n78          78  Heart failure age-standardized incidence rate ...    3.0   \n79          79  Hypertension age-standardized incidence rate p...   16.5   \n\n         City  \n70  Vancouver  \n71  Vancouver  \n72  Vancouver  \n73  Vancouver  \n74  Vancouver  \n75  Vancouver  \n76  Vancouver  \n77  Vancouver  \n78  Vancouver  \n79  Vancouver  ",
      "text/html": "<div>\n<style scoped>\n    .dataframe tbody tr th:only-of-type {\n        vertical-align: middle;\n    }\n\n    .dataframe tbody tr th {\n        vertical-align: top;\n    }\n\n    .dataframe thead th {\n        text-align: right;\n    }\n</style>\n<table border=\"1\" class=\"dataframe\">\n  <thead>\n    <tr style=\"text-align: right;\">\n      <th></th>\n      <th>Unnamed: 0</th>\n      <th>Indicator</th>\n      <th>Value</th>\n      <th>City</th>\n    </tr>\n  </thead>\n  <tbody>\n    <tr>\n      <th>70</th>\n      <td>70</td>\n      <td>Asthma age-standardized prevalence rate per 10...</td>\n      <td>10.9</td>\n      <td>Vancouver</td>\n    </tr>\n    <tr>\n      <th>71</th>\n      <td>71</td>\n      <td>Chronic obstructive pulmonary disease (COPD) a...</td>\n      <td>5.1</td>\n      <td>Vancouver</td>\n    </tr>\n    <tr>\n      <th>72</th>\n      <td>72</td>\n      <td>Diabetes age-standardized prevalence rate per ...</td>\n      <td>8.0</td>\n      <td>Vancouver</td>\n    </tr>\n    <tr>\n      <th>73</th>\n      <td>73</td>\n      <td>Heart failure age-standardized prevalence rate...</td>\n      <td>1.8</td>\n      <td>Vancouver</td>\n    </tr>\n    <tr>\n      <th>74</th>\n      <td>74</td>\n      <td>Hypertension age-standardized prevalence rate ...</td>\n      <td>21.4</td>\n      <td>Vancouver</td>\n    </tr>\n    <tr>\n      <th>75</th>\n      <td>75</td>\n      <td>Asthma age-standardized incidence rate per 100...</td>\n      <td>5.5</td>\n      <td>Vancouver</td>\n    </tr>\n    <tr>\n      <th>76</th>\n      <td>76</td>\n      <td>Chronic obstructive pulmonary disease (COPD) a...</td>\n      <td>5.6</td>\n      <td>Vancouver</td>\n    </tr>\n    <tr>\n      <th>77</th>\n      <td>77</td>\n      <td>Diabetes age-standardized incidence rate per 1...</td>\n      <td>5.6</td>\n      <td>Vancouver</td>\n    </tr>\n    <tr>\n      <th>78</th>\n      <td>78</td>\n      <td>Heart failure age-standardized incidence rate ...</td>\n      <td>3.0</td>\n      <td>Vancouver</td>\n    </tr>\n    <tr>\n      <th>79</th>\n      <td>79</td>\n      <td>Hypertension age-standardized incidence rate p...</td>\n      <td>16.5</td>\n      <td>Vancouver</td>\n    </tr>\n  </tbody>\n</table>\n</div>"
     },
     "execution_count": 26,
     "metadata": {},
     "output_type": "execute_result"
    }
   ],
   "source": [
    "van"
   ],
   "metadata": {
    "collapsed": false,
    "ExecuteTime": {
     "end_time": "2023-08-02T19:52:56.727769700Z",
     "start_time": "2023-08-02T19:52:56.683254700Z"
    }
   }
  },
  {
   "cell_type": "code",
   "execution_count": 27,
   "outputs": [
    {
     "data": {
      "text/plain": "                Value  total\nCity                        \nAbbotsford      11.32    190\nCampbell River  10.32     15\nChilliwack      10.02     17\nKamloops         9.50     37\nKelowna          9.26     21\nNanaimo          8.08     25\nPenticton        8.80      8\nVancouver        7.24    214\nVernon          10.60     21\nVictoria         7.42     38",
      "text/html": "<div>\n<style scoped>\n    .dataframe tbody tr th:only-of-type {\n        vertical-align: middle;\n    }\n\n    .dataframe tbody tr th {\n        vertical-align: top;\n    }\n\n    .dataframe thead th {\n        text-align: right;\n    }\n</style>\n<table border=\"1\" class=\"dataframe\">\n  <thead>\n    <tr style=\"text-align: right;\">\n      <th></th>\n      <th>Value</th>\n      <th>total</th>\n    </tr>\n    <tr>\n      <th>City</th>\n      <th></th>\n      <th></th>\n    </tr>\n  </thead>\n  <tbody>\n    <tr>\n      <th>Abbotsford</th>\n      <td>11.32</td>\n      <td>190</td>\n    </tr>\n    <tr>\n      <th>Campbell River</th>\n      <td>10.32</td>\n      <td>15</td>\n    </tr>\n    <tr>\n      <th>Chilliwack</th>\n      <td>10.02</td>\n      <td>17</td>\n    </tr>\n    <tr>\n      <th>Kamloops</th>\n      <td>9.50</td>\n      <td>37</td>\n    </tr>\n    <tr>\n      <th>Kelowna</th>\n      <td>9.26</td>\n      <td>21</td>\n    </tr>\n    <tr>\n      <th>Nanaimo</th>\n      <td>8.08</td>\n      <td>25</td>\n    </tr>\n    <tr>\n      <th>Penticton</th>\n      <td>8.80</td>\n      <td>8</td>\n    </tr>\n    <tr>\n      <th>Vancouver</th>\n      <td>7.24</td>\n      <td>214</td>\n    </tr>\n    <tr>\n      <th>Vernon</th>\n      <td>10.60</td>\n      <td>21</td>\n    </tr>\n    <tr>\n      <th>Victoria</th>\n      <td>7.42</td>\n      <td>38</td>\n    </tr>\n  </tbody>\n</table>\n</div>"
     },
     "execution_count": 27,
     "metadata": {},
     "output_type": "execute_result"
    }
   ],
   "source": [
    "grouped_data_100"
   ],
   "metadata": {
    "collapsed": false,
    "ExecuteTime": {
     "end_time": "2023-08-02T19:52:57.035033400Z",
     "start_time": "2023-08-02T19:52:56.938732400Z"
    }
   }
  },
  {
   "cell_type": "code",
   "execution_count": 28,
   "outputs": [
    {
     "data": {
      "text/plain": "                Value  total\nCity                        \nAbbotsford      12.70    190\nCampbell River  11.12     15\nChilliwack      11.22     17\nKamloops        11.28     37\nKelowna          9.78     21\nNanaimo         10.04     25\nPenticton       10.38      8\nVancouver        9.44    214\nVernon          10.78     21\nVictoria         9.26     38",
      "text/html": "<div>\n<style scoped>\n    .dataframe tbody tr th:only-of-type {\n        vertical-align: middle;\n    }\n\n    .dataframe tbody tr th {\n        vertical-align: top;\n    }\n\n    .dataframe thead th {\n        text-align: right;\n    }\n</style>\n<table border=\"1\" class=\"dataframe\">\n  <thead>\n    <tr style=\"text-align: right;\">\n      <th></th>\n      <th>Value</th>\n      <th>total</th>\n    </tr>\n    <tr>\n      <th>City</th>\n      <th></th>\n      <th></th>\n    </tr>\n  </thead>\n  <tbody>\n    <tr>\n      <th>Abbotsford</th>\n      <td>12.70</td>\n      <td>190</td>\n    </tr>\n    <tr>\n      <th>Campbell River</th>\n      <td>11.12</td>\n      <td>15</td>\n    </tr>\n    <tr>\n      <th>Chilliwack</th>\n      <td>11.22</td>\n      <td>17</td>\n    </tr>\n    <tr>\n      <th>Kamloops</th>\n      <td>11.28</td>\n      <td>37</td>\n    </tr>\n    <tr>\n      <th>Kelowna</th>\n      <td>9.78</td>\n      <td>21</td>\n    </tr>\n    <tr>\n      <th>Nanaimo</th>\n      <td>10.04</td>\n      <td>25</td>\n    </tr>\n    <tr>\n      <th>Penticton</th>\n      <td>10.38</td>\n      <td>8</td>\n    </tr>\n    <tr>\n      <th>Vancouver</th>\n      <td>9.44</td>\n      <td>214</td>\n    </tr>\n    <tr>\n      <th>Vernon</th>\n      <td>10.78</td>\n      <td>21</td>\n    </tr>\n    <tr>\n      <th>Victoria</th>\n      <td>9.26</td>\n      <td>38</td>\n    </tr>\n  </tbody>\n</table>\n</div>"
     },
     "execution_count": 28,
     "metadata": {},
     "output_type": "execute_result"
    }
   ],
   "source": [
    "grouped_data_1000"
   ],
   "metadata": {
    "collapsed": false,
    "ExecuteTime": {
     "end_time": "2023-08-02T19:52:57.189020900Z",
     "start_time": "2023-08-02T19:52:57.086417800Z"
    }
   }
  },
  {
   "cell_type": "code",
   "execution_count": 29,
   "outputs": [],
   "source": [
    "# Extracting each individual disease data\n",
    "for i in range(10):\n",
    "    f_name = str(i)\n",
    "    df = data.iloc[i::10, :]\n",
    "    df = df.drop(columns=\"Unnamed: 0\")\n",
    "    df.to_csv(f_name + \"counts.csv\")\n",
    "\n",
    "disease1 = pd.read_csv('0counts.csv')\n",
    "disease2 = pd.read_csv('1counts.csv')\n",
    "disease3 = pd.read_csv('2counts.csv')\n",
    "disease4 = pd.read_csv('3counts.csv')\n",
    "disease5 = pd.read_csv('4counts.csv')\n",
    "disease6 = pd.read_csv('5counts.csv')\n",
    "disease7 = pd.read_csv('6counts.csv')\n",
    "disease8 = pd.read_csv('7counts.csv')\n",
    "disease9 = pd.read_csv('8counts.csv')\n",
    "disease10 = pd.read_csv('9counts.csv')"
   ],
   "metadata": {
    "collapsed": false,
    "ExecuteTime": {
     "end_time": "2023-08-02T19:52:57.427170700Z",
     "start_time": "2023-08-02T19:52:57.332613900Z"
    }
   }
  },
  {
   "cell_type": "code",
   "execution_count": 30,
   "outputs": [],
   "source": [
    "disease1 = disease1.join(sum_health_counts.set_index('City'), on=\"City\")\n",
    "disease1 = disease1.drop(columns=\"Unnamed: 0\")\n",
    "\n",
    "disease2 = disease2.join(sum_health_counts.set_index('City'), on=\"City\")\n",
    "disease2 = disease2.drop(columns=\"Unnamed: 0\")\n",
    "\n",
    "disease3 = disease3.join(sum_health_counts.set_index('City'), on=\"City\")\n",
    "disease3 = disease3.drop(columns=\"Unnamed: 0\")\n",
    "\n",
    "disease4 = disease4.join(sum_health_counts.set_index('City'), on=\"City\")\n",
    "disease4 = disease4.drop(columns=\"Unnamed: 0\")\n",
    "\n",
    "disease5 = disease5.join(sum_health_counts.set_index('City'), on=\"City\")\n",
    "disease5 = disease5.drop(columns=\"Unnamed: 0\")\n",
    "\n",
    "disease6 = disease6.join(sum_health_counts.set_index('City'), on=\"City\")\n",
    "disease6 = disease6.drop(columns=\"Unnamed: 0\")\n",
    "\n",
    "disease7 = disease7.join(sum_health_counts.set_index('City'), on=\"City\")\n",
    "disease7 = disease7.drop(columns=\"Unnamed: 0\")\n",
    "\n",
    "disease8 = disease8.join(sum_health_counts.set_index('City'), on=\"City\")\n",
    "disease8 = disease8.drop(columns=\"Unnamed: 0\")\n",
    "\n",
    "disease9 = disease9.join(sum_health_counts.set_index('City'), on=\"City\")\n",
    "disease9 = disease9.drop(columns=\"Unnamed: 0\")\n",
    "\n",
    "disease10 = disease10.join(sum_health_counts.set_index('City'), on=\"City\")\n",
    "disease10 = disease10.drop(columns=\"Unnamed: 0\")\n"
   ],
   "metadata": {
    "collapsed": false,
    "ExecuteTime": {
     "end_time": "2023-08-02T19:52:57.687057500Z",
     "start_time": "2023-08-02T19:52:57.640409800Z"
    }
   }
  },
  {
   "cell_type": "code",
   "execution_count": 31,
   "outputs": [
    {
     "data": {
      "text/plain": "                                           Indicator  Value            City  \\\n0  Asthma age-standardized prevalence rate per 10...   16.9      Abbotsford   \n1  Asthma age-standardized prevalence rate per 10...   14.2  Campbell River   \n2  Asthma age-standardized prevalence rate per 10...   12.9      Chilliwack   \n3  Asthma age-standardized prevalence rate per 10...   14.1        Kamloops   \n4  Asthma age-standardized prevalence rate per 10...   12.4         Kelowna   \n5  Asthma age-standardized prevalence rate per 10...   13.4         Nanaimo   \n6  Asthma age-standardized prevalence rate per 10...   12.8       Penticton   \n7  Asthma age-standardized prevalence rate per 10...   10.9       Vancouver   \n8  Asthma age-standardized prevalence rate per 10...   13.1          Vernon   \n9  Asthma age-standardized prevalence rate per 10...   12.1        Victoria   \n\n   total  \n0    190  \n1     15  \n2     17  \n3     37  \n4     21  \n5     25  \n6      8  \n7    214  \n8     21  \n9     38  ",
      "text/html": "<div>\n<style scoped>\n    .dataframe tbody tr th:only-of-type {\n        vertical-align: middle;\n    }\n\n    .dataframe tbody tr th {\n        vertical-align: top;\n    }\n\n    .dataframe thead th {\n        text-align: right;\n    }\n</style>\n<table border=\"1\" class=\"dataframe\">\n  <thead>\n    <tr style=\"text-align: right;\">\n      <th></th>\n      <th>Indicator</th>\n      <th>Value</th>\n      <th>City</th>\n      <th>total</th>\n    </tr>\n  </thead>\n  <tbody>\n    <tr>\n      <th>0</th>\n      <td>Asthma age-standardized prevalence rate per 10...</td>\n      <td>16.9</td>\n      <td>Abbotsford</td>\n      <td>190</td>\n    </tr>\n    <tr>\n      <th>1</th>\n      <td>Asthma age-standardized prevalence rate per 10...</td>\n      <td>14.2</td>\n      <td>Campbell River</td>\n      <td>15</td>\n    </tr>\n    <tr>\n      <th>2</th>\n      <td>Asthma age-standardized prevalence rate per 10...</td>\n      <td>12.9</td>\n      <td>Chilliwack</td>\n      <td>17</td>\n    </tr>\n    <tr>\n      <th>3</th>\n      <td>Asthma age-standardized prevalence rate per 10...</td>\n      <td>14.1</td>\n      <td>Kamloops</td>\n      <td>37</td>\n    </tr>\n    <tr>\n      <th>4</th>\n      <td>Asthma age-standardized prevalence rate per 10...</td>\n      <td>12.4</td>\n      <td>Kelowna</td>\n      <td>21</td>\n    </tr>\n    <tr>\n      <th>5</th>\n      <td>Asthma age-standardized prevalence rate per 10...</td>\n      <td>13.4</td>\n      <td>Nanaimo</td>\n      <td>25</td>\n    </tr>\n    <tr>\n      <th>6</th>\n      <td>Asthma age-standardized prevalence rate per 10...</td>\n      <td>12.8</td>\n      <td>Penticton</td>\n      <td>8</td>\n    </tr>\n    <tr>\n      <th>7</th>\n      <td>Asthma age-standardized prevalence rate per 10...</td>\n      <td>10.9</td>\n      <td>Vancouver</td>\n      <td>214</td>\n    </tr>\n    <tr>\n      <th>8</th>\n      <td>Asthma age-standardized prevalence rate per 10...</td>\n      <td>13.1</td>\n      <td>Vernon</td>\n      <td>21</td>\n    </tr>\n    <tr>\n      <th>9</th>\n      <td>Asthma age-standardized prevalence rate per 10...</td>\n      <td>12.1</td>\n      <td>Victoria</td>\n      <td>38</td>\n    </tr>\n  </tbody>\n</table>\n</div>"
     },
     "execution_count": 31,
     "metadata": {},
     "output_type": "execute_result"
    }
   ],
   "source": [
    "disease1"
   ],
   "metadata": {
    "collapsed": false,
    "ExecuteTime": {
     "end_time": "2023-08-02T19:52:58.087508400Z",
     "start_time": "2023-08-02T19:52:58.042596300Z"
    }
   }
  },
  {
   "cell_type": "code",
   "execution_count": 32,
   "outputs": [],
   "source": [
    "disease_df_list = [disease1, disease2, disease3, disease4, disease5, disease6, disease7, disease8, disease9, disease10]\n",
    "disease_list = [\"Asthma (5-54) Per 100\", \"COPD (45+) Per 100\", \"Diabetes (1+) Per 100\",\n",
    "                    \"Heart Failure (1+) Per 100\", \"Hypertension (20+) Per 100\", \"Asthma (5-54) Per 1000\",\n",
    "                    \"COPD (45+) Per 1000\", \"Diabetes (1+) Per 1000\", \"Heart Failure (1+) Per 1000\",\n",
    "                    \"Hypertension (20+) Per 1000\"]"
   ],
   "metadata": {
    "collapsed": false,
    "ExecuteTime": {
     "end_time": "2023-08-02T19:52:58.771646500Z",
     "start_time": "2023-08-02T19:52:58.749890900Z"
    }
   }
  },
  {
   "cell_type": "code",
   "execution_count": 33,
   "outputs": [
    {
     "data": {
      "text/plain": "[                                           Indicator  Value            City  \\\n 0  Asthma age-standardized prevalence rate per 10...   16.9      Abbotsford   \n 1  Asthma age-standardized prevalence rate per 10...   14.2  Campbell River   \n 2  Asthma age-standardized prevalence rate per 10...   12.9      Chilliwack   \n 3  Asthma age-standardized prevalence rate per 10...   14.1        Kamloops   \n 4  Asthma age-standardized prevalence rate per 10...   12.4         Kelowna   \n 5  Asthma age-standardized prevalence rate per 10...   13.4         Nanaimo   \n 6  Asthma age-standardized prevalence rate per 10...   12.8       Penticton   \n 7  Asthma age-standardized prevalence rate per 10...   10.9       Vancouver   \n 8  Asthma age-standardized prevalence rate per 10...   13.1          Vernon   \n 9  Asthma age-standardized prevalence rate per 10...   12.1        Victoria   \n \n    total  \n 0    190  \n 1     15  \n 2     17  \n 3     37  \n 4     21  \n 5     25  \n 6      8  \n 7    214  \n 8     21  \n 9     38  ,\n                                            Indicator  Value            City  \\\n 0  Chronic obstructive pulmonary disease (COPD) a...    6.1      Abbotsford   \n 1  Chronic obstructive pulmonary disease (COPD) a...    8.2  Campbell River   \n 2  Chronic obstructive pulmonary disease (COPD) a...    7.4      Chilliwack   \n 3  Chronic obstructive pulmonary disease (COPD) a...    9.3        Kamloops   \n 4  Chronic obstructive pulmonary disease (COPD) a...    7.6         Kelowna   \n 5  Chronic obstructive pulmonary disease (COPD) a...    6.6         Nanaimo   \n 6  Chronic obstructive pulmonary disease (COPD) a...    7.9       Penticton   \n 7  Chronic obstructive pulmonary disease (COPD) a...    5.1       Vancouver   \n 8  Chronic obstructive pulmonary disease (COPD) a...    9.2          Vernon   \n 9  Chronic obstructive pulmonary disease (COPD) a...    5.1        Victoria   \n \n    total  \n 0    190  \n 1     15  \n 2     17  \n 3     37  \n 4     21  \n 5     25  \n 6      8  \n 7    214  \n 8     21  \n 9     38  ,\n                                            Indicator  Value            City  \\\n 0  Diabetes age-standardized prevalence rate per ...   10.7      Abbotsford   \n 1  Diabetes age-standardized prevalence rate per ...    8.2  Campbell River   \n 2  Diabetes age-standardized prevalence rate per ...    9.1      Chilliwack   \n 3  Diabetes age-standardized prevalence rate per ...    7.6        Kamloops   \n 4  Diabetes age-standardized prevalence rate per ...    5.8         Kelowna   \n 5  Diabetes age-standardized prevalence rate per ...    7.4         Nanaimo   \n 6  Diabetes age-standardized prevalence rate per ...    6.8       Penticton   \n 7  Diabetes age-standardized prevalence rate per ...    8.0       Vancouver   \n 8  Diabetes age-standardized prevalence rate per ...    6.8          Vernon   \n 9  Diabetes age-standardized prevalence rate per ...    6.8        Victoria   \n \n    total  \n 0    190  \n 1     15  \n 2     17  \n 3     37  \n 4     21  \n 5     25  \n 6      8  \n 7    214  \n 8     21  \n 9     38  ,\n                                            Indicator  Value            City  \\\n 0  Heart failure age-standardized prevalence rate...    2.5      Abbotsford   \n 1  Heart failure age-standardized prevalence rate...    2.4  Campbell River   \n 2  Heart failure age-standardized prevalence rate...    2.5      Chilliwack   \n 3  Heart failure age-standardized prevalence rate...    2.3        Kamloops   \n 4  Heart failure age-standardized prevalence rate...    1.8         Kelowna   \n 5  Heart failure age-standardized prevalence rate...    1.9         Nanaimo   \n 6  Heart failure age-standardized prevalence rate...    2.0       Penticton   \n 7  Heart failure age-standardized prevalence rate...    1.8       Vancouver   \n 8  Heart failure age-standardized prevalence rate...    2.6          Vernon   \n 9  Heart failure age-standardized prevalence rate...    1.6        Victoria   \n \n    total  \n 0    190  \n 1     15  \n 2     17  \n 3     37  \n 4     21  \n 5     25  \n 6      8  \n 7    214  \n 8     21  \n 9     38  ,\n                                            Indicator  Value            City  \\\n 0  Hypertension age-standardized prevalence rate ...   27.3      Abbotsford   \n 1  Hypertension age-standardized prevalence rate ...   22.6  Campbell River   \n 2  Hypertension age-standardized prevalence rate ...   24.2      Chilliwack   \n 3  Hypertension age-standardized prevalence rate ...   23.1        Kamloops   \n 4  Hypertension age-standardized prevalence rate ...   21.3         Kelowna   \n 5  Hypertension age-standardized prevalence rate ...   20.9         Nanaimo   \n 6  Hypertension age-standardized prevalence rate ...   22.4       Penticton   \n 7  Hypertension age-standardized prevalence rate ...   21.4       Vancouver   \n 8  Hypertension age-standardized prevalence rate ...   22.2          Vernon   \n 9  Hypertension age-standardized prevalence rate ...   20.7        Victoria   \n \n    total  \n 0    190  \n 1     15  \n 2     17  \n 3     37  \n 4     21  \n 5     25  \n 6      8  \n 7    214  \n 8     21  \n 9     38  ,\n                                            Indicator  Value            City  \\\n 0  Asthma age-standardized incidence rate per 100...    8.2      Abbotsford   \n 1  Asthma age-standardized incidence rate per 100...    8.1  Campbell River   \n 2  Asthma age-standardized incidence rate per 100...    5.7      Chilliwack   \n 3  Asthma age-standardized incidence rate per 100...    6.7        Kamloops   \n 4  Asthma age-standardized incidence rate per 100...    6.8         Kelowna   \n 5  Asthma age-standardized incidence rate per 100...    6.0         Nanaimo   \n 6  Asthma age-standardized incidence rate per 100...    5.8       Penticton   \n 7  Asthma age-standardized incidence rate per 100...    5.5       Vancouver   \n 8  Asthma age-standardized incidence rate per 100...    6.9          Vernon   \n 9  Asthma age-standardized incidence rate per 100...    6.1        Victoria   \n \n    total  \n 0    190  \n 1     15  \n 2     17  \n 3     37  \n 4     21  \n 5     25  \n 6      8  \n 7    214  \n 8     21  \n 9     38  ,\n                                            Indicator  Value            City  \\\n 0  Chronic obstructive pulmonary disease (COPD) a...    7.4      Abbotsford   \n 1  Chronic obstructive pulmonary disease (COPD) a...   13.6  Campbell River   \n 2  Chronic obstructive pulmonary disease (COPD) a...    8.2      Chilliwack   \n 3  Chronic obstructive pulmonary disease (COPD) a...   11.8        Kamloops   \n 4  Chronic obstructive pulmonary disease (COPD) a...    9.7         Kelowna   \n 5  Chronic obstructive pulmonary disease (COPD) a...    8.6         Nanaimo   \n 6  Chronic obstructive pulmonary disease (COPD) a...   10.7       Penticton   \n 7  Chronic obstructive pulmonary disease (COPD) a...    5.6       Vancouver   \n 8  Chronic obstructive pulmonary disease (COPD) a...   12.1          Vernon   \n 9  Chronic obstructive pulmonary disease (COPD) a...    6.4        Victoria   \n \n    total  \n 0    190  \n 1     15  \n 2     17  \n 3     37  \n 4     21  \n 5     25  \n 6      8  \n 7    214  \n 8     21  \n 9     38  ,\n                                            Indicator  Value            City  \\\n 0  Diabetes age-standardized incidence rate per 1...    8.7      Abbotsford   \n 1  Diabetes age-standardized incidence rate per 1...    6.8  Campbell River   \n 2  Diabetes age-standardized incidence rate per 1...    7.6      Chilliwack   \n 3  Diabetes age-standardized incidence rate per 1...    5.6        Kamloops   \n 4  Diabetes age-standardized incidence rate per 1...    4.5         Kelowna   \n 5  Diabetes age-standardized incidence rate per 1...    5.7         Nanaimo   \n 6  Diabetes age-standardized incidence rate per 1...    5.1       Penticton   \n 7  Diabetes age-standardized incidence rate per 1...    5.6       Vancouver   \n 8  Diabetes age-standardized incidence rate per 1...    5.4          Vernon   \n 9  Diabetes age-standardized incidence rate per 1...    4.9        Victoria   \n \n    total  \n 0    190  \n 1     15  \n 2     17  \n 3     37  \n 4     21  \n 5     25  \n 6      8  \n 7    214  \n 8     21  \n 9     38  ,\n                                            Indicator  Value            City  \\\n 0  Heart failure age-standardized incidence rate ...    4.1      Abbotsford   \n 1  Heart failure age-standardized incidence rate ...    4.2  Campbell River   \n 2  Heart failure age-standardized incidence rate ...    4.2      Chilliwack   \n 3  Heart failure age-standardized incidence rate ...    3.4        Kamloops   \n 4  Heart failure age-standardized incidence rate ...    3.0         Kelowna   \n 5  Heart failure age-standardized incidence rate ...    3.4         Nanaimo   \n 6  Heart failure age-standardized incidence rate ...    3.3       Penticton   \n 7  Heart failure age-standardized incidence rate ...    3.0       Vancouver   \n 8  Heart failure age-standardized incidence rate ...    4.3          Vernon   \n 9  Heart failure age-standardized incidence rate ...    3.0        Victoria   \n \n    total  \n 0    190  \n 1     15  \n 2     17  \n 3     37  \n 4     21  \n 5     25  \n 6      8  \n 7    214  \n 8     21  \n 9     38  ,\n                                            Indicator  Value            City  \\\n 0  Hypertension age-standardized incidence rate p...   28.2      Abbotsford   \n 1  Hypertension age-standardized incidence rate p...   18.9  Campbell River   \n 2  Hypertension age-standardized incidence rate p...   24.4      Chilliwack   \n 3  Hypertension age-standardized incidence rate p...   20.0        Kamloops   \n 4  Hypertension age-standardized incidence rate p...   22.3         Kelowna   \n 5  Hypertension age-standardized incidence rate p...   16.7         Nanaimo   \n 6  Hypertension age-standardized incidence rate p...   19.1       Penticton   \n 7  Hypertension age-standardized incidence rate p...   16.5       Vancouver   \n 8  Hypertension age-standardized incidence rate p...   24.3          Vernon   \n 9  Hypertension age-standardized incidence rate p...   16.7        Victoria   \n \n    total  \n 0    190  \n 1     15  \n 2     17  \n 3     37  \n 4     21  \n 5     25  \n 6      8  \n 7    214  \n 8     21  \n 9     38  ]"
     },
     "execution_count": 33,
     "metadata": {},
     "output_type": "execute_result"
    }
   ],
   "source": [
    "disease_df_list"
   ],
   "metadata": {
    "collapsed": false,
    "ExecuteTime": {
     "end_time": "2023-08-02T19:52:59.233355500Z",
     "start_time": "2023-08-02T19:52:59.186092200Z"
    }
   }
  },
  {
   "cell_type": "code",
   "execution_count": 34,
   "outputs": [
    {
     "data": {
      "text/plain": "['Asthma (5-54) Per 100',\n 'COPD (45+) Per 100',\n 'Diabetes (1+) Per 100',\n 'Heart Failure (1+) Per 100',\n 'Hypertension (20+) Per 100',\n 'Asthma (5-54) Per 1000',\n 'COPD (45+) Per 1000',\n 'Diabetes (1+) Per 1000',\n 'Heart Failure (1+) Per 1000',\n 'Hypertension (20+) Per 1000']"
     },
     "execution_count": 34,
     "metadata": {},
     "output_type": "execute_result"
    }
   ],
   "source": [
    "disease_list"
   ],
   "metadata": {
    "collapsed": false,
    "ExecuteTime": {
     "end_time": "2023-08-02T19:52:59.810177900Z",
     "start_time": "2023-08-02T19:52:59.764731200Z"
    }
   }
  },
  {
   "cell_type": "code",
   "execution_count": 35,
   "outputs": [
    {
     "name": "stdout",
     "output_type": "stream",
     "text": [
      "Comparing individual diseases to the total healthcare amenity counts:\n",
      "Asthma (5-54) Per 100 P-Value: 0.7093719725099896 r-Value: 0.13530872543195088\n",
      "COPD (45+) Per 100 P-Value: 0.06196113770620972 r-Value: -0.6084422562505192\n",
      "Diabetes (1+) Per 100 P-Value: 0.08731146675657968 r-Value: 0.5671386887125904\n",
      "Heart Failure (1+) Per 100 P-Value: 0.8804923684172504 r-Value: -0.05479629717925635\n",
      "Hypertension (20+) Per 100 P-Value: 0.26754241870255785 r-Value: 0.3882641900129314\n",
      "Asthma (5-54) Per 1000 P-Value: 0.7974448994218354 r-Value: 0.09340733233495863\n",
      "COPD (45+) Per 1000 P-Value: 0.05299986512316705 r-Value: -0.6256924497815315\n",
      "Diabetes (1+) Per 1000 P-Value: 0.2577860417767419 r-Value: 0.3956202324755935\n",
      "Heart Failure (1+) Per 1000 P-Value: 0.7490095403708377 r-Value: -0.11629875916512121\n",
      "Hypertension (20+) Per 1000 P-Value: 0.7046262041140602 r-Value: 0.1376040698993745\n"
     ]
    }
   ],
   "source": [
    "print(\"Comparing individual diseases to the total healthcare amenity counts:\")\n",
    "k = 0\n",
    "for i in disease_df_list:\n",
    "    fit = stats.linregress(i[\"total\"], i[\"Value\"])\n",
    "    print(disease_list[k], \"P-Value:\", fit.pvalue, \"r-Value:\", fit.rvalue)\n",
    "    k = k+1"
   ],
   "metadata": {
    "collapsed": false,
    "ExecuteTime": {
     "end_time": "2023-08-02T19:53:00.292898900Z",
     "start_time": "2023-08-02T19:53:00.229304100Z"
    }
   }
  },
  {
   "cell_type": "code",
   "execution_count": 43,
   "outputs": [],
   "source": [
    "#Write to csv: Average Prevalence and Incidence Rates\n",
    "grouped_data_1000.to_csv('Format/format_avg_pr.csv')\n",
    "grouped_data_100.to_csv('Format/format_avg_ir.csv')\n",
    "#Write to csv: Prevalence and Incidence Rates By city\n",
    "van.to_csv('Format/format_prir_van.csv',index=False)\n",
    "ver.to_csv('Format/format_prir_ver.csv',index=False)\n",
    "vic.to_csv('Format/format_prir_vic.csv',index=False)\n",
    "abb.to_csv('Format/format_prir_abb.csv',index=False)\n",
    "camp.to_csv('Format/format_prir_camp.csv',index=False)\n",
    "chill.to_csv('Format/format_prir_chill.csv',index=False)\n",
    "kam.to_csv('Format/format_prir_kam.csv',index=False)\n",
    "kel.to_csv('Format/format_prir_kel.csv',index=False)\n",
    "nana.to_csv('Format/format_prir_nana.csv',index=False)\n",
    "pen.to_csv('Format/format_prir_pen.csv',index=False)\n",
    "#Write to csv: Sum healthcare,parking, stations and taxi counts\n",
    "sum_health_counts.to_csv('Format/format_sum_health.csv',index=False)\n",
    "sum_nearby_taxi.to_csv('Format/format_sum_taxi.csv',index=False)\n",
    "sum_nearby_parking.to_csv('Format/format_sum_parking.csv',index=False)\n",
    "sum_nearby_station.to_csv('Format/format_sum_station.csv',index=False)"
   ],
   "metadata": {
    "collapsed": false,
    "ExecuteTime": {
     "end_time": "2023-08-02T19:55:43.227766100Z",
     "start_time": "2023-08-02T19:55:43.199763400Z"
    }
   }
  },
  {
   "cell_type": "code",
   "execution_count": 44,
   "outputs": [],
   "source": [
    "#Write to csv: Disease List divided by Prevalence and Incidence Rate\n",
    "indiv_prevalence = pd.concat([disease1, disease2, disease3, disease4, disease5],ignore_index=True)\n",
    "indiv_incidence = pd.concat([disease6, disease7, disease8, disease9, disease10],ignore_index=True)\n",
    "indiv_prevalence.to_csv('Format/format_indiv_pr.csv',index=False)\n",
    "indiv_incidence.to_csv('Format/format_indiv_ir.csv',index=False)"
   ],
   "metadata": {
    "collapsed": false,
    "ExecuteTime": {
     "end_time": "2023-08-02T19:55:44.099709600Z",
     "start_time": "2023-08-02T19:55:44.047743100Z"
    }
   }
  },
  {
   "cell_type": "code",
   "execution_count": 45,
   "outputs": [],
   "source": [
    "#Write to csv: Name of Disease List\n",
    "df_dis_list = pd.DataFrame(disease_list,columns=['Disease'])\n",
    "df_dis_list.to_csv('Format/format_dis_list.csv',index=False)"
   ],
   "metadata": {
    "collapsed": false,
    "ExecuteTime": {
     "end_time": "2023-08-02T19:55:44.733069400Z",
     "start_time": "2023-08-02T19:55:44.706701300Z"
    }
   }
  },
  {
   "cell_type": "code",
   "execution_count": null,
   "outputs": [],
   "source": [],
   "metadata": {
    "collapsed": false
   }
  }
 ],
 "metadata": {
  "kernelspec": {
   "display_name": "Python 3",
   "language": "python",
   "name": "python3"
  },
  "language_info": {
   "codemirror_mode": {
    "name": "ipython",
    "version": 2
   },
   "file_extension": ".py",
   "mimetype": "text/x-python",
   "name": "python",
   "nbconvert_exporter": "python",
   "pygments_lexer": "ipython2",
   "version": "2.7.6"
  }
 },
 "nbformat": 4,
 "nbformat_minor": 0
}
